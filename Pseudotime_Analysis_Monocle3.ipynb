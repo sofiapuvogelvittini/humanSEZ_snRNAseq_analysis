{
 "cells": [
  {
   "cell_type": "code",
   "execution_count": null,
   "id": "6fe05531",
   "metadata": {},
   "outputs": [],
   "source": [
    "library(monocle3)\n",
    "library(destiny)\n",
    "# Plot\n",
    "library(conflicted)\n",
    "library(purrr)\n",
    "\n",
    "library(viridis)\n",
    "library(cowplot)\n",
    "library(ggplot2)\n",
    "library(ggbeeswarm)\n",
    "library(ggthemes)\n",
    "library(SeuratData)\n",
    "library(SeuratWrappers)\n",
    "library(ggplot2)\n",
    "library(patchwork)\n",
    "library(magrittr)\n",
    "library(Seurat)\n",
    "library(data.table)\n",
    "library(ggplot2)\n",
    "library(readxl)\n",
    "library(plyr)\n",
    "\n",
    "library(dplyr)\n",
    "\n",
    "library(reshape2)\n",
    "\n",
    "library(viridis)\n",
    "library(knitr)\n",
    "library(stringr)\n",
    "library(NMF)\n",
    "library(rsvd)\n",
    "library(lme4)\n",
    "library(RColorBrewer)\n",
    "\n",
    "library(gtools)\n",
    "library(gprofiler2)"
   ]
  },
  {
   "cell_type": "code",
   "execution_count": null,
   "id": "84d415cf",
   "metadata": {},
   "outputs": [],
   "source": [
    "\n",
    "setwd(\".../Test_Code\")\n",
    "datasets <- readRDS(\".../RData/SEZ_seurat_object.rds\")\n",
    "DefaultAssay(datasets) <- \"RNA\"\n"
   ]
  },
  {
   "cell_type": "code",
   "execution_count": null,
   "id": "8a0f8da1",
   "metadata": {},
   "outputs": [],
   "source": [
    "colnames(datasets@meta.data)"
   ]
  },
  {
   "cell_type": "code",
   "execution_count": null,
   "id": "c5bb9365",
   "metadata": {},
   "outputs": [],
   "source": [
    "Idents(datasets) <- \"group\"\n",
    "datasets_Y <- subset(datasets, idents = c(\"Y\"))"
   ]
  },
  {
   "cell_type": "code",
   "execution_count": null,
   "id": "451b71ae",
   "metadata": {},
   "outputs": [],
   "source": [
    "datasets_M <- subset(datasets, idents = c(\"M\"))"
   ]
  },
  {
   "cell_type": "code",
   "execution_count": null,
   "id": "6ebf6d33",
   "metadata": {},
   "outputs": [],
   "source": [
    "DefaultAssay(datasets_Y) <- \"integrated\"\n",
    "DefaultAssay(datasets_M) <- \"integrated\""
   ]
  },
  {
   "cell_type": "code",
   "execution_count": null,
   "id": "cec9f649",
   "metadata": {},
   "outputs": [],
   "source": [
    "Idents(datasets_Y) <- datasets$cluster\n",
    "Idents(datasets_M) <- datasets$cluster"
   ]
  },
  {
   "cell_type": "code",
   "execution_count": null,
   "id": "6922787d",
   "metadata": {},
   "outputs": [],
   "source": [
    "### Building the necessary parts for a basic cds\n",
    "\n",
    "# part one, gene annotations\n",
    "\n",
    "gene_annotation <- as.data.frame(rownames(datasets_Y@reductions[[\"pca\"]]@feature.loadings), row.names = rownames(datasets_Y@reductions[[\"pca\"]]@feature.loadings))\n",
    "colnames(gene_annotation) <- \"gene_short_name\"\n"
   ]
  },
  {
   "cell_type": "code",
   "execution_count": null,
   "id": "22ef6a6b",
   "metadata": {},
   "outputs": [],
   "source": [
    "# part two, cell information\n",
    "\n",
    "cell_metadata <- as.data.frame(datasets_Y@assays[[\"RNA\"]]@counts@Dimnames[[2]], row.names = datasets_Y@assays[[\"RNA\"]]@counts@Dimnames[[2]])\n",
    "colnames(cell_metadata) <- \"barcode\"\n",
    "\n"
   ]
  },
  {
   "cell_type": "code",
   "execution_count": null,
   "id": "2d421d65",
   "metadata": {},
   "outputs": [],
   "source": [
    "# part three, counts sparse matrix\n",
    "\n",
    "New_matrix <- datasets_Y@assays[[\"RNA\"]]@counts\n",
    "New_matrix <- New_matrix[rownames(datasets_Y@reductions[[\"pca\"]]@feature.loadings), ]\n",
    "expression_matrix <- New_matrix"
   ]
  },
  {
   "cell_type": "code",
   "execution_count": null,
   "id": "5ffa77a1",
   "metadata": {},
   "outputs": [],
   "source": [
    "### Construct the basic cds object\n",
    "\n",
    "cds_from_seurat <- new_cell_data_set(expression_matrix,\n",
    "                                     cell_metadata = cell_metadata,\n",
    "                                     gene_metadata = gene_annotation)\n"
   ]
  },
  {
   "cell_type": "code",
   "execution_count": null,
   "id": "9c84fdd3",
   "metadata": {},
   "outputs": [],
   "source": [
    "### Construct and assign the made up partition\n",
    "\n",
    "recreate.partition <- c(rep(1, length(cds_from_seurat@colData@rownames)))\n",
    "names(recreate.partition) <- cds_from_seurat@colData@rownames\n",
    "recreate.partition <- as.factor(recreate.partition)\n",
    "\n",
    "cds_from_seurat@clusters@listData[[\"UMAP\"]][[\"partitions\"]] <- recreate.partition"
   ]
  },
  {
   "cell_type": "code",
   "execution_count": null,
   "id": "8add1d61",
   "metadata": {},
   "outputs": [],
   "source": [
    "### Assign the cluster info\n",
    "\n",
    "list_cluster <- datasets_Y@meta.data[[\"integrated_snn_res.0.4\"]]\n",
    "names(list_cluster) <- datasets_Y@assays[[\"RNA\"]]@data@Dimnames[[2]]\n",
    "cds_from_seurat@clusters@listData[[\"UMAP\"]][[\"clusters\"]] <- list_cluster\n"
   ]
  },
  {
   "cell_type": "code",
   "execution_count": null,
   "id": "3d31f6b2",
   "metadata": {},
   "outputs": [],
   "source": [
    "### Could be a space-holder, but essentially fills out louvain parameters\n",
    "\n",
    "cds_from_seurat@clusters@listData[[\"UMAP\"]][[\"louvain_res\"]] <- \"NA\"\n",
    "\n",
    "\n",
    "### Assign UMAP coordinate\n",
    "# cds_from_seurat <- preprocess_cds (cds_from_seurat,method = \"PCA\")\n",
    "# cds_from_seurat <- reduce_dimension(cds_from_seurat)\n",
    "reducedDims(cds_from_seurat)$UMAP <-  datasets_Y@reductions[[\"umap\"]]@cell.embeddings\n"
   ]
  },
  {
   "cell_type": "code",
   "execution_count": null,
   "id": "a2c7446b",
   "metadata": {},
   "outputs": [],
   "source": [
    "### Assign feature loading for downstream module analysis\n",
    "\n",
    "cds_from_seurat@reduce_dim_aux$gene_loadings <- datasets_Y@reductions[[\"pca\"]]@feature.loadings"
   ]
  },
  {
   "cell_type": "code",
   "execution_count": null,
   "id": "5afea109",
   "metadata": {},
   "outputs": [],
   "source": [
    "### Learn graph, this step usually takes a significant period of time for larger samples\n",
    "\n",
    "# print(\"Learning graph, which can take a while depends on the sample\")\n",
    "\n",
    "cds_from_seurat <- learn_graph(cds_from_seurat, use_partition = TRUE)"
   ]
  },
  {
   "cell_type": "code",
   "execution_count": null,
   "id": "1074dd90",
   "metadata": {},
   "outputs": [],
   "source": [
    "ucols_all<-c(\"#993399\", \"#FFCCFF\", '#CC0099' ,\n",
    "             \"#999999\",\n",
    "             \"#FFFF00\", \n",
    "             \"#333333\",'#3333FF',\"#33CCFF\",\"#99FFFF\",#\"#9933FF\",'#66CC99',\"#009966\",\"#006633\",\n",
    "             '#99FF33', \"#999900\", \"#CCCC66\", \"#666633\", \n",
    "             \"#9966CC\", \n",
    "             \"#663333\",\n",
    "             \"#FF6600\",\n",
    "             \"#669999\",\n",
    "             \"#FF0000\",\"#FFCC99\",\"#FF9933\") #ex SST xcolor \"#99CC99\""
   ]
  },
  {
   "cell_type": "code",
   "execution_count": null,
   "id": "1e42192f",
   "metadata": {},
   "outputs": [],
   "source": [
    "plot_cells(cds_from_seurat, label_groups_by_cluster = TRUE, label_leaves = TRUE, label_branch_points = TRUE,color_cells_by = 'cluster')+\n",
    "scale_color_manual(values=ucols_all)\n"
   ]
  },
  {
   "cell_type": "code",
   "execution_count": null,
   "id": "88fadd4e",
   "metadata": {},
   "outputs": [],
   "source": [
    "plot_cells(cds_from_seurat, label_groups_by_cluster = TRUE, label_leaves = TRUE, label_branch_points = TRUE,color_cells_by = 'cluster')+\n",
    "scale_color_manual(values=ucols_all)\n"
   ]
  },
  {
   "cell_type": "code",
   "execution_count": null,
   "id": "643738b2",
   "metadata": {},
   "outputs": [],
   "source": [
    "tiff(\"UMAP_trajectory_monocle3_Y.tiff\", res = 400, units = \"in\", width = 5, height = 5)\n",
    "plot_cells(cds_from_seurat, label_groups_by_cluster = TRUE, label_principal_points = TRUE,label_leaves = TRUE, label_branch_points = TRUE,color_cells_by = 'cluster')+\n",
    "scale_color_manual(values=ucols_all)\n",
    "dev.off()"
   ]
  },
  {
   "cell_type": "code",
   "execution_count": null,
   "id": "bf7e172b",
   "metadata": {},
   "outputs": [],
   "source": [
    "#we are going to use the ones that we think are stem cells!"
   ]
  },
  {
   "cell_type": "code",
   "execution_count": null,
   "id": "5b0cadb4",
   "metadata": {},
   "outputs": [],
   "source": [
    "cds_from_seurat <- order_cells(cds_from_seurat,root_pr_nodes=c(\"Y_572\",\"Y_544\",\"Y_506\",\"Y_205\",\"Y_59\",\n",
    "                                                              \"Y_175\",\n",
    "                                                              \"Y_110\",\n",
    "                                                              \"Y_414\",\"Y_170\",\"Y_71\"))#\n",
    "#aNCS,OPCs, clusters 0,7 and 16\n",
    "cds_from_seurat <- order_cells(cds_from_seurat,root_pr_nodes=c(\"Y_59\",\n",
    "                                                              \"Y_175\",\n",
    "                                                              \"Y_110\",\n",
    "                                                              \"Y_414\",\"Y_170\"))#\n",
    "#only the stem clusters? \n",
    "#0 and 7"
   ]
  },
  {
   "cell_type": "code",
   "execution_count": null,
   "id": "01d264fc",
   "metadata": {
    "scrolled": false
   },
   "outputs": [],
   "source": [
    "plot_cells(cds_from_seurat, color_cells_by = \"pseudotime\", label_cell_groups = FALSE, label_leaves = FALSE, \n",
    "    label_branch_points = FALSE)\n",
    "tiff(\"UMAP_pseudotime_monocle3_Y.tiff\", res = 400, units = \"in\", width = 6, height = 5)\n",
    "\n",
    "plot_cells(cds_from_seurat, color_cells_by = \"pseudotime\", label_cell_groups = FALSE, label_leaves = FALSE, \n",
    "    label_branch_points = FALSE)\n",
    "dev.off()"
   ]
  },
  {
   "cell_type": "code",
   "execution_count": null,
   "id": "57698358",
   "metadata": {},
   "outputs": [],
   "source": [
    "#dataset_M"
   ]
  },
  {
   "cell_type": "code",
   "execution_count": null,
   "id": "6b8e9017",
   "metadata": {},
   "outputs": [],
   "source": [
    "### Building the necessary parts for a basic cds\n",
    "\n",
    "# part one, gene annotations\n",
    "\n",
    "gene_annotation <- as.data.frame(rownames(datasets_M@reductions[[\"pca\"]]@feature.loadings), row.names = rownames(datasets_M@reductions[[\"pca\"]]@feature.loadings))\n",
    "colnames(gene_annotation) <- \"gene_short_name\"\n"
   ]
  },
  {
   "cell_type": "code",
   "execution_count": null,
   "id": "babdee72",
   "metadata": {},
   "outputs": [],
   "source": [
    "# part two, cell information\n",
    "\n",
    "cell_metadata <- as.data.frame(datasets_M@assays[[\"RNA\"]]@counts@Dimnames[[2]], row.names = datasets_M@assays[[\"RNA\"]]@counts@Dimnames[[2]])\n",
    "colnames(cell_metadata) <- \"barcode\"\n",
    "\n"
   ]
  },
  {
   "cell_type": "code",
   "execution_count": null,
   "id": "b3a75634",
   "metadata": {},
   "outputs": [],
   "source": [
    "# part three, counts sparse matrix\n",
    "\n",
    "New_matrix <- datasets_M@assays[[\"RNA\"]]@counts\n",
    "New_matrix <- New_matrix[rownames(datasets_M@reductions[[\"pca\"]]@feature.loadings), ]\n",
    "expression_matrix <- New_matrix"
   ]
  },
  {
   "cell_type": "code",
   "execution_count": null,
   "id": "201f4be3",
   "metadata": {},
   "outputs": [],
   "source": [
    "### Construct the basic cds object\n",
    "\n",
    "cds_from_seurat <- new_cell_data_set(expression_matrix,\n",
    "                                     cell_metadata = cell_metadata,\n",
    "                                     gene_metadata = gene_annotation)\n"
   ]
  },
  {
   "cell_type": "code",
   "execution_count": null,
   "id": "a58eef13",
   "metadata": {},
   "outputs": [],
   "source": [
    "### Construct and assign the made up partition\n",
    "\n",
    "recreate.partition <- c(rep(1, length(cds_from_seurat@colData@rownames)))\n",
    "names(recreate.partition) <- cds_from_seurat@colData@rownames\n",
    "recreate.partition <- as.factor(recreate.partition)\n",
    "\n",
    "cds_from_seurat@clusters@listData[[\"UMAP\"]][[\"partitions\"]] <- recreate.partition"
   ]
  },
  {
   "cell_type": "code",
   "execution_count": null,
   "id": "4876481f",
   "metadata": {},
   "outputs": [],
   "source": [
    "### Assign the cluster info\n",
    "\n",
    "list_cluster <- datasets_M@meta.data[[\"integrated_snn_res.0.4\"]]\n",
    "names(list_cluster) <- datasets_M@assays[[\"RNA\"]]@data@Dimnames[[2]]\n",
    "cds_from_seurat@clusters@listData[[\"UMAP\"]][[\"clusters\"]] <- list_cluster\n"
   ]
  },
  {
   "cell_type": "code",
   "execution_count": null,
   "id": "20c48658",
   "metadata": {},
   "outputs": [],
   "source": [
    "### Could be a space-holder, but essentially fills out louvain parameters\n",
    "\n",
    "cds_from_seurat@clusters@listData[[\"UMAP\"]][[\"louvain_res\"]] <- \"NA\"\n",
    "\n",
    "\n",
    "### Assign UMAP coordinate\n",
    "# cds_from_seurat <- preprocess_cds (cds_from_seurat,method = \"PCA\")\n",
    "# cds_from_seurat <- reduce_dimension(cds_from_seurat)\n",
    "reducedDims(cds_from_seurat)$UMAP <-  datasets_M@reductions[[\"umap\"]]@cell.embeddings\n"
   ]
  },
  {
   "cell_type": "code",
   "execution_count": null,
   "id": "c56c7545",
   "metadata": {},
   "outputs": [],
   "source": [
    "### Assign feature loading for downstream module analysis\n",
    "\n",
    "cds_from_seurat@reduce_dim_aux$gene_loadings <- datasets_M@reductions[[\"pca\"]]@feature.loadings"
   ]
  },
  {
   "cell_type": "code",
   "execution_count": null,
   "id": "44f1ad26",
   "metadata": {},
   "outputs": [],
   "source": [
    "### Learn graph, this step usually takes a significant period of time for larger samples\n",
    "\n",
    "print(\"Learning graph, which can take a while depends on the sample\")\n",
    "\n",
    "cds_from_seurat <- learn_graph(cds_from_seurat, use_partition = TRUE)"
   ]
  },
  {
   "cell_type": "code",
   "execution_count": null,
   "id": "137074ad",
   "metadata": {},
   "outputs": [],
   "source": [
    "ucols_all<-c(\"#993399\", \"#FFCCFF\", '#CC0099' ,\n",
    "             \"#999999\",\n",
    "             \"#FFFF00\", \n",
    "             \"#333333\",'#3333FF',\"#33CCFF\",\"#99FFFF\",#\"#9933FF\",'#66CC99',\"#009966\",\"#006633\",\n",
    "             '#99FF33', \"#999900\", \"#CCCC66\", \"#666633\", \n",
    "             \"#9966CC\", \n",
    "             \"#663333\",\n",
    "             \"#FF6600\",\n",
    "             \"#669999\",\n",
    "             \"#FF0000\",\"#FFCC99\",\"#FF9933\") #ex SST xcolor \"#99CC99\""
   ]
  },
  {
   "cell_type": "code",
   "execution_count": null,
   "id": "e0401d6e",
   "metadata": {},
   "outputs": [],
   "source": [
    "plot_cells(cds_from_seurat, label_groups_by_cluster = TRUE, label_leaves = TRUE, label_branch_points = TRUE,color_cells_by = 'cluster')+\n",
    "scale_color_manual(values=ucols_all)\n"
   ]
  },
  {
   "cell_type": "code",
   "execution_count": null,
   "id": "d1a3bf3f",
   "metadata": {},
   "outputs": [],
   "source": [
    "plot_cells(cds_from_seurat, label_groups_by_cluster = TRUE, label_leaves = TRUE, label_branch_points = TRUE,color_cells_by = 'cluster')+\n",
    "scale_color_manual(values=ucols_all)\n"
   ]
  },
  {
   "cell_type": "code",
   "execution_count": null,
   "id": "26e2c0ce",
   "metadata": {},
   "outputs": [],
   "source": [
    "tiff(\"UMAP_trajectory_monocle3_M.tiff\", res = 400, units = \"in\", width = 5, height = 5)\n",
    "plot_cells(cds_from_seurat, label_groups_by_cluster = TRUE, label_principal_points = TRUE,label_leaves = TRUE, label_branch_points = TRUE,color_cells_by = 'cluster')+\n",
    "scale_color_manual(values=ucols_all)\n",
    "dev.off()"
   ]
  },
  {
   "cell_type": "code",
   "execution_count": null,
   "id": "b06d2b70",
   "metadata": {},
   "outputs": [],
   "source": [
    "cds_from_seurat <- order_cells(cds_from_seurat,root_pr_nodes=c(\"Y_353\",\"Y_166\",\n",
    "                                                              \"Y_412\",\"Y_217\",\"Y_151\",\n",
    "                                                              \"Y_14\",\"Y_522\",\n",
    "                                                              \"Y_517\",\"Y_132\",\n",
    "                                                              \"Y_306\",\"Y_324\"))#,\"Y_572\",\"Y_544\"\n",
    "#cluster 7 and 16"
   ]
  },
  {
   "cell_type": "code",
   "execution_count": null,
   "id": "947efde4",
   "metadata": {
    "scrolled": true
   },
   "outputs": [],
   "source": [
    "plot_cells(cds_from_seurat, color_cells_by = \"pseudotime\", label_cell_groups = FALSE, label_leaves = FALSE, \n",
    "    label_branch_points = FALSE)\n",
    "tiff(\"UMAP_pseudotime_monocle3_M.tiff\", res = 400, units = \"in\", width = 6, height = 5)\n",
    "\n",
    "plot_cells(cds_from_seurat, color_cells_by = \"pseudotime\", label_cell_groups = FALSE, label_leaves = FALSE, \n",
    "    label_branch_points = FALSE)\n",
    "dev.off()"
   ]
  },
  {
   "cell_type": "code",
   "execution_count": null,
   "id": "80287212",
   "metadata": {},
   "outputs": [],
   "source": [
    "getwd()"
   ]
  },
  {
   "cell_type": "code",
   "execution_count": null,
   "id": "f08565ec",
   "metadata": {},
   "outputs": [],
   "source": [
    "#complete datasets"
   ]
  },
  {
   "cell_type": "code",
   "execution_count": null,
   "id": "04a706cc",
   "metadata": {},
   "outputs": [],
   "source": [
    "### Building the necessary parts for a basic cds\n",
    "\n",
    "# part one, gene annotations\n",
    "\n",
    "gene_annotation <- as.data.frame(rownames(datasets@reductions[[\"pca\"]]@feature.loadings), row.names = rownames(datasets@reductions[[\"pca\"]]@feature.loadings))\n",
    "colnames(gene_annotation) <- \"gene_short_name\"\n"
   ]
  },
  {
   "cell_type": "code",
   "execution_count": null,
   "id": "ad9408b3",
   "metadata": {},
   "outputs": [],
   "source": [
    "# part two, cell information\n",
    "\n",
    "cell_metadata <- as.data.frame(datasets@assays[[\"RNA\"]]@counts@Dimnames[[2]], row.names = datasets@assays[[\"RNA\"]]@counts@Dimnames[[2]])\n",
    "colnames(cell_metadata) <- \"barcode\"\n",
    "\n"
   ]
  },
  {
   "cell_type": "code",
   "execution_count": null,
   "id": "4effc3be",
   "metadata": {},
   "outputs": [],
   "source": [
    "# part three, counts sparse matrix\n",
    "\n",
    "New_matrix <- datasets@assays[[\"RNA\"]]@counts\n",
    "New_matrix <- New_matrix[rownames(datasets@reductions[[\"pca\"]]@feature.loadings), ]\n",
    "expression_matrix <- New_matrix"
   ]
  },
  {
   "cell_type": "code",
   "execution_count": null,
   "id": "c9e2b7d9",
   "metadata": {},
   "outputs": [],
   "source": [
    "### Construct the basic cds object\n",
    "\n",
    "cds_from_seurat <- new_cell_data_set(expression_matrix,\n",
    "                                     cell_metadata = cell_metadata,\n",
    "                                     gene_metadata = gene_annotation)\n"
   ]
  },
  {
   "cell_type": "code",
   "execution_count": null,
   "id": "39fd6c59",
   "metadata": {},
   "outputs": [],
   "source": [
    "### Construct and assign the made up partition\n",
    "\n",
    "recreate.partition <- c(rep(1, length(cds_from_seurat@colData@rownames)))\n",
    "names(recreate.partition) <- cds_from_seurat@colData@rownames\n",
    "recreate.partition <- as.factor(recreate.partition)\n",
    "\n",
    "cds_from_seurat@clusters@listData[[\"UMAP\"]][[\"partitions\"]] <- recreate.partition"
   ]
  },
  {
   "cell_type": "code",
   "execution_count": null,
   "id": "bea9a1d5",
   "metadata": {},
   "outputs": [],
   "source": [
    "### Assign the cluster info\n",
    "\n",
    "list_cluster <- datasets@meta.data[[\"integrated_snn_res.0.4\"]]\n",
    "names(list_cluster) <- datasets@assays[[\"RNA\"]]@data@Dimnames[[2]]\n",
    "cds_from_seurat@clusters@listData[[\"UMAP\"]][[\"clusters\"]] <- list_cluster\n"
   ]
  },
  {
   "cell_type": "code",
   "execution_count": null,
   "id": "964fd562",
   "metadata": {},
   "outputs": [],
   "source": [
    "### Could be a space-holder, but essentially fills out louvain parameters\n",
    "\n",
    "cds_from_seurat@clusters@listData[[\"UMAP\"]][[\"louvain_res\"]] <- \"NA\"\n",
    "\n",
    "\n",
    "### Assign UMAP coordinate\n",
    "# cds_from_seurat <- preprocess_cds (cds_from_seurat,method = \"PCA\")\n",
    "# cds_from_seurat <- reduce_dimension(cds_from_seurat)\n",
    "reducedDims(cds_from_seurat)$UMAP <-  datasets@reductions[[\"umap\"]]@cell.embeddings\n"
   ]
  },
  {
   "cell_type": "code",
   "execution_count": null,
   "id": "a3043fb9",
   "metadata": {},
   "outputs": [],
   "source": [
    "### Assign feature loading for downstream module analysis\n",
    "\n",
    "cds_from_seurat@reduce_dim_aux$gene_loadings <- datasets@reductions[[\"pca\"]]@feature.loadings"
   ]
  },
  {
   "cell_type": "code",
   "execution_count": null,
   "id": "a6ee5b3b",
   "metadata": {},
   "outputs": [],
   "source": [
    "### Learn graph, this step usually takes a significant period of time for larger samples\n",
    "\n",
    "print(\"Learning graph, which can take a while depends on the sample\")\n",
    "\n",
    "cds_from_seurat <- learn_graph(cds_from_seurat, use_partition = TRUE)"
   ]
  },
  {
   "cell_type": "code",
   "execution_count": null,
   "id": "a9f37f58",
   "metadata": {},
   "outputs": [],
   "source": [
    "ucols_all<-c(\"#993399\", \"#FFCCFF\", '#CC0099' ,\n",
    "             \"#999999\",\n",
    "             \"#FFFF00\", \n",
    "             \"#333333\",'#3333FF',\"#33CCFF\",\"#99FFFF\",#\"#9933FF\",'#66CC99',\"#009966\",\"#006633\",\n",
    "             '#99FF33', \"#999900\", \"#CCCC66\", \"#666633\", \n",
    "             \"#9966CC\", \n",
    "             \"#663333\",\n",
    "             \"#FF6600\",\n",
    "             \"#669999\",\n",
    "             \"#FF0000\",\"#FFCC99\",\"#FF9933\") #ex SST xcolor \"#99CC99\""
   ]
  },
  {
   "cell_type": "code",
   "execution_count": null,
   "id": "da710499",
   "metadata": {},
   "outputs": [],
   "source": [
    "plot_cells(cds_from_seurat, label_groups_by_cluster = TRUE, label_leaves = TRUE, label_branch_points = TRUE,color_cells_by = 'cluster')+\n",
    "scale_color_manual(values=ucols_all)\n"
   ]
  },
  {
   "cell_type": "code",
   "execution_count": null,
   "id": "7d428497",
   "metadata": {},
   "outputs": [],
   "source": [
    "plot_cells(cds_from_seurat, label_groups_by_cluster = TRUE, label_leaves = TRUE, label_branch_points = TRUE,color_cells_by = 'cluster')+\n",
    "scale_color_manual(values=ucols_all)\n"
   ]
  },
  {
   "cell_type": "code",
   "execution_count": null,
   "id": "da21d883",
   "metadata": {},
   "outputs": [],
   "source": [
    "tiff(\"UMAP_trajectory_monocle3_all_cells.tiff\", res = 400, units = \"in\", width = 5, height = 5)\n",
    "plot_cells(cds_from_seurat, label_groups_by_cluster = TRUE, label_principal_points = TRUE,label_leaves = TRUE, label_branch_points = TRUE,color_cells_by = 'cluster')+\n",
    "scale_color_manual(values=ucols_all)\n",
    "dev.off()"
   ]
  },
  {
   "cell_type": "code",
   "execution_count": null,
   "id": "926274f7",
   "metadata": {},
   "outputs": [],
   "source": [
    "cds_from_seurat <- order_cells(cds_from_seurat,root_pr_nodes=c(\"Y_268\",\"Y_116\",\"Y_436\",\n",
    "                                                              \"Y_86\",\"Y_93\",\"Y_555\",\n",
    "                                                              \"Y_579\",\"Y_226\",\"Y_398\",\n",
    "                                                              \"Y_630\",\"Y_545\"))#,\"Y_572\",\"Y_544\"\n",
    "\n"
   ]
  },
  {
   "cell_type": "code",
   "execution_count": null,
   "id": "7c0b2489",
   "metadata": {
    "scrolled": true
   },
   "outputs": [],
   "source": [
    "plot_cells(cds_from_seurat, color_cells_by = \"pseudotime\", label_cell_groups = FALSE, label_leaves = FALSE, \n",
    "    label_branch_points = FALSE)\n",
    "tiff(\"UMAP_pseudotime_monocle3_all_cells.tiff\", res = 400, units = \"in\", width = 6, height = 5)\n",
    "\n",
    "plot_cells(cds_from_seurat, color_cells_by = \"pseudotime\", label_cell_groups = FALSE, label_leaves = FALSE, \n",
    "    label_branch_points = FALSE)\n",
    "dev.off()"
   ]
  }
 ],
 "metadata": {
  "kernelspec": {
   "display_name": "R 4.2.1 (native)",
   "language": "R",
   "name": "ir421_native"
  },
  "language_info": {
   "codemirror_mode": "r",
   "file_extension": ".r",
   "mimetype": "text/x-r-source",
   "name": "R",
   "pygments_lexer": "r",
   "version": "4.2.1"
  }
 },
 "nbformat": 4,
 "nbformat_minor": 5
}

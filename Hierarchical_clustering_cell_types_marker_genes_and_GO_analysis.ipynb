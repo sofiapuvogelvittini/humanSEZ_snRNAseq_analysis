{
 "cells": [
  {
   "cell_type": "code",
   "execution_count": null,
   "id": "060c8543",
   "metadata": {},
   "outputs": [],
   "source": [
    "library(Seurat)\n",
    "library(data.table)\n",
    "library(ggplot2)\n",
    "library(corrplot)\n",
    "library(plotly)\n",
    "library(heatmaply)\n",
    "library(dplyr)\n",
    "library(grid)\n",
    "library(gridExtra)"
   ]
  },
  {
   "cell_type": "code",
   "execution_count": null,
   "id": "10387d9f",
   "metadata": {},
   "outputs": [],
   "source": [
    "redcolor<-c(\"#FFF5F0\",\"#FEE0D2\",\"#FCBBA1\",\"#FC9272\", \"#FB6A4A\", \"#EF3B2C\",\"#CB181D\",\"#99000D\" )\n",
    "redcolor<-colorRampPalette(redcolor)"
   ]
  },
  {
   "cell_type": "code",
   "execution_count": null,
   "id": "c58c97d1",
   "metadata": {},
   "outputs": [],
   "source": [
    "setwd(\".../SVZ/Test_Code\")"
   ]
  },
  {
   "cell_type": "code",
   "execution_count": null,
   "id": "b7c93147",
   "metadata": {},
   "outputs": [],
   "source": [
    "datasets <- readRDS(\".../RData/SEZ_seurat_object.rds\")\n",
    "DefaultAssay(datasets) <- \"RNA\""
   ]
  },
  {
   "cell_type": "code",
   "execution_count": null,
   "id": "145c1656",
   "metadata": {},
   "outputs": [],
   "source": [
    "require('ape')\n",
    "datasets <- BuildClusterTree(object = datasets, assay = \"RNA\")\n"
   ]
  },
  {
   "cell_type": "code",
   "execution_count": null,
   "id": "26cfb607",
   "metadata": {},
   "outputs": [],
   "source": [
    "avg_list <- AverageExpression(datasets)\n",
    "\n",
    "avg_mat <- as.matrix(avg_list$integrated) # RNA contains all genes, integrated only the hihgly variable genes (celltype related)\n",
    "\n",
    "require(corrplot)\n",
    "\n",
    "M<-cor(avg_mat, method = \"pearson\")\n",
    "head(round(M,2))"
   ]
  },
  {
   "cell_type": "code",
   "execution_count": null,
   "id": "193e250d",
   "metadata": {},
   "outputs": [],
   "source": [
    "heatmaply_cor(M, limits = c(0,1), \n",
    "              colors=redcolor,show.dendrogram = c(FALSE, TRUE),row_dend_left=TRUE,hclust_method=\"single\",\n",
    "                   showticklabels= c(TRUE, TRUE),\n",
    "              file  = \"heatmaply_clusters.html\")"
   ]
  },
  {
   "cell_type": "code",
   "execution_count": null,
   "id": "bff29a4b",
   "metadata": {},
   "outputs": [],
   "source": [
    "#object is already organized based on hier clustering\n",
    "levels(datasets)"
   ]
  },
  {
   "cell_type": "code",
   "execution_count": null,
   "id": "16f1b236",
   "metadata": {},
   "outputs": [],
   "source": [
    "#find clusters marker genes"
   ]
  },
  {
   "cell_type": "code",
   "execution_count": null,
   "id": "ca7f3056",
   "metadata": {},
   "outputs": [],
   "source": [
    "datasets_2<-datasets\n",
    "\n",
    "datasets_2<-NormalizeData(datasets_2, normalization.method = \"LogNormalize\", scale.factor = 10000)\n",
    "all.genes <- rownames(datasets_2)\n",
    "datasets_2 <- ScaleData(datasets_2, features = all.genes)\n",
    "Idents(datasets_2) <- datasets_2$cluster"
   ]
  },
  {
   "cell_type": "code",
   "execution_count": null,
   "id": "64836a46",
   "metadata": {},
   "outputs": [],
   "source": [
    "all.markers <- FindAllMarkers(object = datasets, only.pos = TRUE, return.thresh = 0.01)\n",
    "write.csv(all.markers, \"marker_genes_all_clusters_d30k10r04.csv\")"
   ]
  },
  {
   "cell_type": "code",
   "execution_count": null,
   "id": "1230e7c1",
   "metadata": {},
   "outputs": [],
   "source": [
    "#GO analysis"
   ]
  },
  {
   "cell_type": "code",
   "execution_count": null,
   "id": "7a3a854f",
   "metadata": {},
   "outputs": [],
   "source": [
    "#remove MT and then select FC05\n",
    "\n",
    "markers<-read.csv(\"marker_genes_all_clusters_d30k10r04.csv\")\n",
    "markers$cluster <-factor(markers$cluster, levels = paste(c(0:19))) \n",
    "\n",
    "\n",
    "\n",
    "markers<-with(markers, markers[order(cluster),])\n",
    "markers <- as.data.table(markers)\n",
    "markers<-markers[!grep(\"^MT-\", X)]\n",
    "markers<-subset(markers, subset = avg_log2FC >=0.5)\n",
    "markers<-subset(markers,subset= p_val_adj <= 0.05)\n",
    "\n",
    "\n",
    "markers<-as.data.frame(markers)\n",
    "\n",
    "\n",
    "topFC05 <- markers\n",
    "#topFC05<-subset(topFC05, subset = cluster %in% astrocytes)\n",
    "topFC05<-as.data.frame(topFC05)\n",
    "\n",
    "topFC05_list <- split( topFC05 , f = topFC05$cluster )\n",
    "\n",
    "levels(topFC05$cluster)\n",
    "subcelltype01s <- levels(topFC05$cluster)\n",
    "for (subcelltype01 in subcelltype01s){\n",
    "    x=topFC05_list[[paste0(subcelltype01)]][\"gene\"]\n",
    "    write.csv(x, paste0(\"gProfiler2/marker_topFC05_\",subcelltype01,\"_.csv\"))\n",
    "\n",
    "}\n",
    "#run g profiler on each topFC05 file and make a separate file with top go terms\n",
    "for (subcelltype01 in subcelltype01s){\n",
    "    marker_genes=read.csv(paste0(\"gProfiler2/marker_topFC05_\",subcelltype01,\"_.csv\") )\n",
    "    marker_genes=marker_genes$gene\n",
    "    gostres <- gost(query =marker_genes , \n",
    "                organism = \"hsapiens\", ordered_query = FALSE, \n",
    "                multi_query = FALSE, significant = TRUE, exclude_iea = FALSE, \n",
    "                measure_underrepresentation = FALSE, evcodes = FALSE, \n",
    "                user_threshold = 0.05, correction_method = \"g_SCS\", \n",
    "                domain_scope = \"annotated\", custom_bg = NULL, \n",
    "                numeric_ns = \"\", sources = NULL, as_short_link = FALSE)\n",
    "    gostres$result=subset(gostres$result, source %in% c(\"GO:BP\"))#\"GO:CC\", \"REAC\",\"GO:MF\",\n",
    "    result=gostres$result\n",
    "    result=result[, c(\"term_name\",\"p_value\", \"source\",\"term_id\",\"intersection_size\",\"query_size\",\"term_size\")]\n",
    "    result$neg_log_p=-log10(result$p_value)\n",
    "    result= result %>%arrange(dplyr::desc(neg_log_p))\n",
    "    \n",
    "    write.csv(result,paste0(\"gProfiler2/go_BP_FC05top_\",subcelltype01,\".csv\"))\n",
    "                \n",
    "    \n",
    "\n",
    "    }\n",
    "\n",
    "my_levels=levels(markers$cluster)\n",
    "\n",
    "df=list()\n",
    "p_val=c()\n",
    "for (subcelltype01 in my_levels){\n",
    "    go_terms<-read.csv(paste0(\"gProfiler2/go_BP_FC05top_\",subcelltype01,\".csv\"))\n",
    "    #go_terms=go_terms[1:10,]\n",
    "    p=go_terms$neg_log_p\n",
    "    p_val=c(p_val,p)\n",
    "    go_terms$subcelltype01<-subcelltype01#rep(paste(subcelltype01), 10)\n",
    "    df[[subcelltype01]]=go_terms\n",
    "    #write.csv(df,paste0(\"gProfiler/go_all_cells_\",astro,\".csv\"))\n",
    "    }\n",
    "                \n",
    "df<-do.call(rbind,df)\n",
    "df\n",
    "df$subcelltype01<-factor(df$subcelltype01)"
   ]
  },
  {
   "cell_type": "code",
   "execution_count": null,
   "id": "0930d5f2",
   "metadata": {},
   "outputs": [],
   "source": [
    "library(rrvgo) #adredss redundancy of terms"
   ]
  },
  {
   "cell_type": "code",
   "execution_count": null,
   "id": "b4f2a2b2",
   "metadata": {},
   "outputs": [],
   "source": [
    "#eliminate reduntand terms\n",
    "subcelltype01s<-levels(df$subcelltype01)\n",
    "\n",
    "df_l<-split(df, f=df$subcelltype01)\n",
    "for (subcelltype01 in subcelltype01s){\n",
    "    go<-df_l[[subcelltype01]]\n",
    "    simMatrix <- calculateSimMatrix(go$term_id,\n",
    "                                orgdb=\"org.Hs.eg.db\",\n",
    "                                ont=c(\"BP\"),\n",
    "                                method=\"Rel\")\n",
    "    name_scores<-go$term_id\n",
    "    scores<-go$neg_log_p\n",
    "    names(scores)<-name_scores\n",
    "    \n",
    "    reducedTerms <- reduceSimMatrix(simMatrix,\n",
    "                                scores,\n",
    "                                threshold=0.7,#0.7\n",
    "                                orgdb=\"org.Hs.eg.db\")\n",
    "    \n",
    "    \n",
    "\n",
    "    write.csv(reducedTerms,paste0(\"gProfiler2/go_BP_reduced_FC05top_\",subcelltype01,\".csv\"))\n",
    "    \n",
    "    }\n",
    "go_red=list()\n",
    "for (subcelltype01 in subcelltype01s){\n",
    "    go_terms_red<-read.csv(paste0(\"gProfiler2/go_BP_reduced_FC05top_\",subcelltype01,\".csv\"))\n",
    "    go_terms_red$subcelltype01<-subcelltype01\n",
    "    go_red[[subcelltype01]]=go_terms_red\n",
    "    \n",
    "    #write.csv(df,paste0(\"gProfiler/go_all_cells_\",astro,\".csv\"))\n",
    "    }\n",
    "                \n",
    "go_red<-do.call(rbind,go_red)\n",
    "\n",
    "go_red_l<-split(go_red, f=go_red$subcelltype01)\n",
    "#subcelltype01s <- levels(topFC05$cluster)\n",
    "\n",
    "for (subcelltype01 in subcelltype01s){\n",
    "    go_red_l[[subcelltype01]]<-go_red_l[[subcelltype01]]%>% distinct(parentTerm, .keep_all= TRUE)\n",
    "\n",
    "    \n",
    "} \n",
    "go_red_l\n",
    "new_list <- lapply(go_red_l, function(x) subset(x, select=c(\"parentTerm\",\"score\",\"subcelltype01\" )))"
   ]
  },
  {
   "cell_type": "code",
   "execution_count": null,
   "id": "1380b94d",
   "metadata": {},
   "outputs": [],
   "source": [
    "new_list_2 <- do.call(\"rbind\", new_list)\n",
    "new_list_2<-left_join(new_list_2, df, by = c(\"parentTerm\" = \"term_name\", \"subcelltype01\" = \"subcelltype01\"))    \n",
    "write.csv(new_list_2, \"gProfiler2/go_BP_reduced_FC05top_all_cells.csv\")\n",
    "new_list_2<-read.csv(\"gProfiler2/go_BP_reduced_FC05top_all_cells.csv\")\n",
    "new_list_2"
   ]
  },
  {
   "cell_type": "code",
   "execution_count": null,
   "id": "d00c5b5e",
   "metadata": {},
   "outputs": [],
   "source": [
    "a=c(\"5\",\"1\",\"17\",\"6\",\"18\",\"15\",\"9\",\"10\",\"12\",\"3\",\"2\",\"14\",\"13\",\"11\",\"19\",\"4\",\"8\",\"7\",\"0\",\"16\")#hier clustering order\n",
    "\n",
    "new_list_2$subcelltype01  <-factor(new_list_2$subcelltype01, levels=a)\n",
    " \n",
    "\n",
    "\n",
    "new_list_3<-with(new_list_2, new_list_2[order(subcelltype01,-score,parentTerm ),])\n",
    "parentTerms<-unique(new_list_3$parentTerm)\n",
    "new_list_3$parentTerm <- factor(new_list_3$parentTerm, levels = parentTerms)\n",
    "new_list_4<-new_list_3 %>% group_by(subcelltype01) %>% top_n(n=1,wt = score)\n",
    "length(unique(new_list_4$parentTerm))\n",
    "parentTerms<-unique(new_list_4$parentTerm)\n",
    "new_list_4$parentTerm <- factor(new_list_4$parentTerm, levels = parentTerms)\n",
    "new_list_4<-within(new_list_4, size <- paste(intersection_size,\"/\",term_size)) \n",
    "\n",
    "new_list_4<-within(new_list_4, term_plus_size <- paste(parentTerm,\" \",size)) \n",
    "\n",
    "\n",
    "head(new_list_4)"
   ]
  },
  {
   "cell_type": "code",
   "execution_count": null,
   "id": "5201ca1e",
   "metadata": {},
   "outputs": [],
   "source": [
    "write.csv(new_list_4, \"plot_gprofiler.csv\")"
   ]
  }
 ],
 "metadata": {
  "kernelspec": {
   "display_name": "R 4.2.1 (native)",
   "language": "R",
   "name": "ir421_native"
  },
  "language_info": {
   "codemirror_mode": "r",
   "file_extension": ".r",
   "mimetype": "text/x-r-source",
   "name": "R",
   "pygments_lexer": "r",
   "version": "4.2.1"
  }
 },
 "nbformat": 4,
 "nbformat_minor": 5
}

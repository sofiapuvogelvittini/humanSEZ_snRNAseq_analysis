{
 "cells": [
  {
   "cell_type": "code",
   "execution_count": null,
   "id": "1dd1551b",
   "metadata": {},
   "outputs": [],
   "source": [
    "#1 normalize the bulk data\n",
    "#2 extract degs and marker genes per cluster\n",
    "#3 calculate spearman correlation of gene expression and age, correct by multiple test\n",
    "#4 make heatmaps and perhaps show some curve as an example"
   ]
  },
  {
   "cell_type": "code",
   "execution_count": null,
   "id": "84e0a7e4",
   "metadata": {},
   "outputs": [],
   "source": [
    "library(data.table)\n",
    "library(ggplot2)\n",
    "library(readxl)\n",
    "library(plyr)\n",
    "library(tidyr)\n",
    "library(dplyr)\n",
    "library(extrafont)\n",
    "library(reshape2)\n",
    "\n",
    "library(viridis)\n",
    "library(knitr)\n",
    "library(stringr)\n",
    "library(NMF)\n",
    "library(rsvd)\n",
    "library(lme4)\n",
    "library(RColorBrewer)\n",
    "library(purrr)\n",
    "library(gtools)\n",
    "library(gprofiler2)\n",
    "setwd(\".../Test_Code\")"
   ]
  },
  {
   "cell_type": "code",
   "execution_count": null,
   "id": "1a3b6763",
   "metadata": {},
   "outputs": [],
   "source": [
    "datasets <- readRDS(\".../RData/SEZ_seurat_object.rds\")\n",
    "DefaultAssay(datasets) <- \"RNA\""
   ]
  },
  {
   "cell_type": "code",
   "execution_count": null,
   "id": "8a00b907",
   "metadata": {},
   "outputs": [],
   "source": [
    "data<-read.csv(\".../RData/Bulk/bulk_data_samples.csv\")\n",
    "head(data)\n",
    "data_adol_aging<-subset(data,Age_group %in% c('E','F',\"G\",\"H\"))\n",
    "data_adol_aging<-drop_na(data_adol_aging)\n",
    "rownames(data_adol_aging)<-data_adol_aging$Sample\n",
    "data_adol_aging_samples<-data_adol_aging$Sample\n",
    "data_adol_aging_samples<-c(\"Gene\",data_adol_aging_samples)\n",
    "data_adol_aging_samples"
   ]
  },
  {
   "cell_type": "code",
   "execution_count": null,
   "id": "241987d1",
   "metadata": {},
   "outputs": [],
   "source": [
    "bulk<-read.table(\"/RData/Bulk/bulk_counts_SVZ_Gene.tsv\",header = TRUE)\n",
    "bulk<-drop_na(bulk)\n",
    "#CPM make a for loop across the columns\n",
    "bulk_2<-bulk\n",
    "for (i in 2:length(bulk_2)){\n",
    "    col=bulk_2[[i]]\n",
    "    total_reads=sum(col)\n",
    "    n_factor=1000000/total_reads\n",
    "    bulk_2[i]=bulk_2[i]*n_factor\n",
    "    \n",
    "}"
   ]
  },
  {
   "cell_type": "code",
   "execution_count": null,
   "id": "1d25e6cb",
   "metadata": {},
   "outputs": [],
   "source": [
    "bulk_2_AD_AG<-bulk_2[data_adol_aging_samples]"
   ]
  },
  {
   "cell_type": "code",
   "execution_count": null,
   "id": "fd770420",
   "metadata": {},
   "outputs": [],
   "source": [
    "setwd(\".../validations/DEGs\")"
   ]
  },
  {
   "cell_type": "code",
   "execution_count": null,
   "id": "f6191461",
   "metadata": {},
   "outputs": [],
   "source": [
    "DEGs<-list.files(pattern =\"MAST\",\n",
    "                           full.names = FALSE, recursive = TRUE)\n",
    "\n",
    "DEGs <- lapply(DEGs, function(x) read.csv(x) %>% mutate(cluster = x))\n",
    "DEGs<-do.call(rbind,DEGs)\n",
    "head(DEGs)[1:2,]"
   ]
  },
  {
   "cell_type": "code",
   "execution_count": null,
   "id": "fbf2a61a",
   "metadata": {},
   "outputs": [],
   "source": [
    "est_list<-list()\n",
    "pval_list<-list()\n",
    "nMetrics <- ncol(data_adol_aging_age)\n",
    "numb_of_traits=1\n",
    "for (i in colnames(bulk_2_AD_AG_DEGs_rd)){\n",
    "    est <- c()\n",
    "    p <- c()\n",
    "    s_corr<-cor.test(bulk_2_AD_AG_DEGs_rd[,i],data_adol_aging_age,method = 'spearman',exact = FALSE)\n",
    "    p_val<-s_corr$p.value\n",
    "    estimate<-unname(s_corr$estimate)\n",
    "     est_list[i]<- estimate  \n",
    "     pval_list[i]<- p_val  }\n",
    "est_list<-do.call(cbind,est_list)\n",
    "pval_list<-do.call(cbind,pval_list)\n",
    "all_adj<-round(p.adjust(c(pval_list), method =\"fdr\", n = length(c(pval_list))),2)\n",
    "# rownames(all_adj)<\"adj_p\"\n",
    "# rownames(est_list)<\"corr\"\n",
    "results<-rbind(pval_list,all_adj,est_list)\n",
    "rownames(results)<-c(\"p\",\"adj_p\",\"corr\")\n",
    "results<-as.data.frame(results)\n",
    "results<-results[,]\n",
    "results_sig<-as.data.frame(t(results))\n",
    "results_sig<-results_sig[results_sig$p<0.05,]\n",
    "results_sig$dir_corr<-ifelse(results_sig$corr>0, \"increase\",\"decrease\")\n",
    "#include if this amtch with direction of log2FC, and then also indicate if we mentioned in the text\n",
    "results_sig$primerid<-rownames(results_sig)\n",
    "head(results_sig)[1:2,]\n",
    "sig<-results_sig$Gene"
   ]
  },
  {
   "cell_type": "code",
   "execution_count": null,
   "id": "819057cf",
   "metadata": {},
   "outputs": [],
   "source": [
    "results_sig_all<-merge(DEGs, results_sig, by=\"primerid\") #DEGs$cluster[match(results_sig$Gene, DEGs$primerid)]\n",
    "results_sig_all$dir_DEGs<-ifelse(results_sig_all$coef>0, \"increase\",\"decrease\")\n",
    "results_sig_all$consistent<-ifelse(results_sig_all$dir_corr==results_sig_all$dir_DEGs, \"Yes\",\"No\")\n",
    "results_sig_all<-results_sig_all[,c(\"primerid\",\"cluster\",\"coef\",\"dir_DEGs\",\"corr\",\"dir_corr\",\"p\",\"adj_p\",\"consistent\")]\n",
    "head(results_sig_all)"
   ]
  },
  {
   "cell_type": "code",
   "execution_count": null,
   "id": "01a8ac63",
   "metadata": {},
   "outputs": [],
   "source": [
    "results_sig_all<-with(results_sig_all, results_sig_all[order(cluster, consistent,-abs(coef)),])\n",
    "results_sig_all$cluster<-str_replace(results_sig_all$cluster,\"MAST-mixed-sign.csv\", \"\")\n",
    "results_sig_all$cluster<-paste0(\"cluster_\",results_sig_all$cluster)\n",
    "write.csv(results_sig_all,\"correlations_bulk_DEGs.csv\")"
   ]
  },
  {
   "cell_type": "code",
   "execution_count": null,
   "id": "794449a3",
   "metadata": {},
   "outputs": [],
   "source": [
    "to_plot<-results_sig_all[results_sig_all$consistent==\"Yes\",]\n",
    "to_plot<-to_plot %>% group_by(cluster) %>% arrange(desc(abs(coef)))# %>% \n",
    "   #top_n(5, coef)\n",
    "to_plot<-with(to_plot, to_plot[order(cluster,corr),])\n",
    "to_plot$primerid<-factor(to_plot$primerid,levels=unique(to_plot$primerid))\n",
    "\n",
    "to_plot_lines_pos<-to_plot[to_plot$corr>0,\"primerid\"]$primerid\n",
    "to_plot_lines_neg<-to_plot[to_plot$corr<0,\"primerid\"]$primerid"
   ]
  },
  {
   "cell_type": "code",
   "execution_count": null,
   "id": "1d4319d2",
   "metadata": {},
   "outputs": [],
   "source": [
    "p<-ggplot(to_plot, aes(x=consistent, y=primerid))+  \n",
    "  geom_tile(aes(fill= corr),color = \"black\")+\n",
    "    scale_fill_gradient2(low=\"blue\", high=\"red\", limits=c(-1,1))+\n",
    "    theme(strip.text = element_text(size=5), legend.text = element_text(size=5),legend.title = element_text(size=5),legend.key.size = unit(0.3, \"cm\"),\n",
    "          panel.grid.major = element_blank(), panel.grid.minor = element_blank(),\n",
    "    panel.background = element_blank(), axis.line = element_line(colour = \"white\"),axis.text=element_text(size=7,color=\"black\"),\n",
    "          text=element_text(size=4),strip.background = element_blank(), axis.text.x = element_text(\n",
    "                                                                                                   angle = 45, vjust = 1, hjust=1,size=0),\n",
    "        axis.text.y = element_text(,size=7,vjust = 0.5, hjust=1,face = \"italic\"),\n",
    "        axis.title.x = element_blank(),axis.ticks.x=element_blank(),axis.ticks.y=element_blank(),\n",
    "          axis.title.y = element_blank())+\n",
    "\n",
    "    geom_text(data=to_plot,aes(x=consistent,y=primerid,label=round(p,3)),\n",
    "              size=1.5,angle=45)+xlab(\" \")+ylab(\" \")\n",
    "p\n",
    "tiff(\"heatmap_consistent_corr_abs_all_italic.tiff\", res = 400, units = \"in\", width = 2, height = 5.3)\n",
    "p\n",
    "dev.off()#fac"
   ]
  },
  {
   "cell_type": "code",
   "execution_count": null,
   "id": "de64a668",
   "metadata": {},
   "outputs": [],
   "source": [
    "write.csv(to_plot,\"to_plot_heatmap.csv\")"
   ]
  },
  {
   "cell_type": "code",
   "execution_count": null,
   "id": "7a79455c",
   "metadata": {},
   "outputs": [],
   "source": [
    "to_plot_lines_pos<-to_plot[to_plot$corr>0,\"primerid\"]$primerid\n",
    "to_plot_lines_pos<-as.data.frame(bulk_2_AD_AG_DEGs_rd[,colnames(bulk_2_AD_AG_DEGs_rd) %in% to_plot_lines_pos])\n",
    "to_plot_lines_pos$Sample<-rownames(to_plot_lines_pos)\n",
    "to_plot_lines_pos<-melt(to_plot_lines_pos)\n",
    "colnames(to_plot_lines_pos)<-c(\"Sample\",\"gene\",\"expression\")\n",
    "to_plot_lines_pos$gene<-factor(to_plot_lines_pos$gene,levels=unique(to_plot_lines_pos$gene))\n",
    "age<-data_adol_aging[\"Age_full_year\"]\n",
    "age$Sample<-rownames(age)\n",
    "to_plot_lines_pos<-merge(to_plot_lines_pos,age, by=\"Sample\")\n",
    "the_plot<-ggplot(to_plot_lines_pos, aes(x = Age_full_year, y = expression))+\n",
    "         geom_point(aes(color=gene)) +\n",
    "         geom_line(aes(group = gene)) +theme_minimal() +theme(legend.text = element_text(size=7,face = \"italic\"),legend.title = element_text(size=8),legend.key.size = unit(0.3, \"cm\"))\n",
    "tiff(\"postive_corr_consistent_all_talic.tiff\", res = 400, units = \"in\", width = 4, height = 3)\n",
    "\n",
    "the_plot        \n",
    "dev.off()"
   ]
  },
  {
   "cell_type": "code",
   "execution_count": null,
   "id": "fe03b8d7",
   "metadata": {},
   "outputs": [],
   "source": [
    "to_plot_lines_neg<-to_plot[to_plot$corr<0,\"primerid\"]$primerid\n",
    "to_plot_lines_neg<-as.data.frame(bulk_2_AD_AG_DEGs_rd[,colnames(bulk_2_AD_AG_DEGs_rd) %in% to_plot_lines_neg])\n",
    "to_plot_lines_neg$Sample<-rownames(to_plot_lines_neg)\n",
    "to_plot_lines_neg<-melt(to_plot_lines_neg)\n",
    "colnames(to_plot_lines_neg)<-c(\"Sample\",\"gene\",\"expression\")\n",
    "to_plot_lines_neg$gene<-factor(to_plot_lines_neg$gene,levels=unique(to_plot_lines_neg$gene))\n",
    "age<-data_adol_aging[\"Age_full_year\"]\n",
    "age$Sample<-rownames(age)\n",
    "to_plot_lines_neg<-merge(to_plot_lines_neg,age, by=\"Sample\")\n",
    "the_plot<-ggplot(to_plot_lines_neg, aes(x = Age_full_year, y = expression))+\n",
    "         geom_point(aes(color=gene)) +\n",
    "         geom_line(aes(group = gene)) +theme_minimal() +theme(legend.text = element_text(size=7,face = \"italic\"),legend.title = element_text(size=8),legend.key.size = unit(0.3, \"cm\"))\n",
    "tiff(\"negtive_corr_consistent_all_italic.tiff\", res = 400, units = \"in\", width = 5, height = 3)\n",
    "\n",
    "the_plot        \n",
    "dev.off()"
   ]
  },
  {
   "cell_type": "code",
   "execution_count": null,
   "id": "7382b5a9",
   "metadata": {},
   "outputs": [],
   "source": [
    "consistency<-as.data.frame.matrix(table(results_sig_all$cluster,results_sig_all$consistent))\n"
   ]
  },
  {
   "cell_type": "code",
   "execution_count": null,
   "id": "af60329b",
   "metadata": {},
   "outputs": [],
   "source": [
    "setwd(\".../validations/Markers\")"
   ]
  },
  {
   "cell_type": "code",
   "execution_count": null,
   "id": "a844d3fb",
   "metadata": {},
   "outputs": [],
   "source": [
    "#impor list of marker_genes and list of marker genes\n",
    "\n",
    "marker_genes<-read.csv(\"marker_genes.csv\")\n",
    "marker_genes_primerid<-marker_genes$primerid\n",
    "marker_genes_primerid<-marker_genes_primerid[!duplicated(marker_genes_primerid)]"
   ]
  },
  {
   "cell_type": "code",
   "execution_count": null,
   "id": "69e82698",
   "metadata": {},
   "outputs": [],
   "source": [
    "#check for marker_genes correlation with age\n",
    "bulk_2_AD_AG_marker_genes<-bulk_2_AD_AG[bulk_2_AD_AG$Gene %in% marker_genes_primerid,]\n",
    "#if there is a a duplicated gene, then pick the une with higher expression per sample"
   ]
  },
  {
   "cell_type": "code",
   "execution_count": null,
   "id": "ff0a20db",
   "metadata": {},
   "outputs": [],
   "source": [
    "bulk_2_AD_AG_marker_genes_rd<-list()\n",
    "for (i in 2:19){\n",
    "    df<-bulk_2_AD_AG_marker_genes[c(1,i)]\n",
    "    \n",
    "    \n",
    "     unique_genes<-unique(df$Gene)\n",
    "     V3<-c(colnames(df[2]))\n",
    "     #V3<-rlang::sym(c(V3))\n",
    "     df<-df %>%                                      # Top N highest values by group\n",
    "     group_by(Gene)\n",
    "     #arrange(desc(.data[[ V3[1] ]]), .by_group=TRUE) %>%\n",
    "    df<-dplyr::arrange( df, !! rlang::parse_expr(\"desc(V3)\") ) %>% \n",
    "    slice(1) %>% ungroup()\n",
    "    \n",
    "    \n",
    "     \n",
    "    df<-df[match(unique_genes, df$Gene), c(\"Gene\", V3)] \n",
    "     bulk_2_AD_AG_marker_genes_rd[[i]]<-df\n",
    "    \n",
    "}\n",
    "bulk_2_AD_AG_marker_genes_rd<-bulk_2_AD_AG_marker_genes_rd[2:19]\n",
    "bulk_2_AD_AG_marker_genes_rd<-bulk_2_AD_AG_marker_genes_rd %>% reduce(inner_join, by = \"Gene\") %>% as.data.frame()\n",
    "#bulk_2_AD_AG_marker_genes_rd<-as.data.frame(bulk_2_AD_AG_marker_genes_rd)\n",
    "sum(duplicated(bulk_2_AD_AG_marker_genes_rd$Gene))\n",
    "rownames(bulk_2_AD_AG_marker_genes_rd)<-bulk_2_AD_AG_marker_genes_rd$Gene\n",
    "bulk_2_AD_AG_marker_genes_rd<-bulk_2_AD_AG_marker_genes_rd[-1]\n",
    "# colnames(bulk_2_AD_AG_marker_genes_rd)<-samples_info$sample_ID\n",
    "bulk_2_AD_AG_marker_genes_rd<-t(bulk_2_AD_AG_marker_genes_rd)\n",
    "head(bulk_2_AD_AG_marker_genes_rd)"
   ]
  },
  {
   "cell_type": "code",
   "execution_count": null,
   "id": "0052433f",
   "metadata": {},
   "outputs": [],
   "source": [
    "est_list<-list()\n",
    "pval_list<-list()\n",
    "nMetrics <- ncol(data_adol_aging_age)\n",
    "numb_of_traits=1\n",
    "for (i in colnames(bulk_2_AD_AG_marker_genes_rd)){\n",
    "    est <- c()\n",
    "    p <- c()\n",
    "    s_corr<-cor.test(bulk_2_AD_AG_marker_genes_rd[,i],data_adol_aging_age,method = 'spearman',exact = FALSE)\n",
    "    p_val<-s_corr$p.value\n",
    "    estimate<-unname(s_corr$estimate)\n",
    "     est_list[i]<- estimate  \n",
    "     pval_list[i]<- p_val  }\n",
    "est_list<-do.call(cbind,est_list)\n",
    "pval_list<-do.call(cbind,pval_list)\n",
    "all_adj<-round(p.adjust(c(pval_list), method =\"fdr\", n = length(c(pval_list))),2)\n",
    "# rownames(all_adj)<\"adj_p\"\n",
    "# rownames(est_list)<\"corr\"\n",
    "results<-rbind(pval_list,all_adj,est_list)\n",
    "rownames(results)<-c(\"p\",\"adj_p\",\"corr\")\n",
    "results<-as.data.frame(results)\n",
    "results<-results[,]\n",
    "results_sig<-as.data.frame(t(results))\n",
    "results_sig<-results_sig[results_sig$p<0.05,]\n",
    "results_sig$dir_corr<-ifelse(results_sig$corr>0, \"increase\",\"decrease\")\n",
    "#include if this amtch with direction of log2FC, and then also indicate if we mentioned in the text\n",
    "results_sig$primerid<-rownames(results_sig)\n",
    "head(results_sig)[1:2,]\n",
    "sig<-results_sig$Gene"
   ]
  },
  {
   "cell_type": "code",
   "execution_count": null,
   "id": "e2a7ff29",
   "metadata": {},
   "outputs": [],
   "source": [
    "results_sig_all<-merge(marker_genes, results_sig, by=\"primerid\") #marker_genes$cluster[match(results_sig$Gene, marker_genes$primerid)]\n",
    "results_sig_all$dir_proportion<-\"decrease\"\n",
    "results_sig_all$dir_proportion[results_sig_all$cluster==13]<-\"increase\"\n",
    "\n",
    "\n",
    "\n",
    "results_sig_all$consistent<-ifelse(results_sig_all$dir_corr==results_sig_all$dir_proportion, \"Yes\",\"No\")\n",
    "results_sig_all<-results_sig_all[,c(\"primerid\",\"cluster\",\"FC\",\"dir_proportion\",\"corr\",\"dir_corr\",\"p\",\"adj_p\",\"consistent\")]"
   ]
  },
  {
   "cell_type": "code",
   "execution_count": null,
   "id": "aeaca129",
   "metadata": {},
   "outputs": [],
   "source": [
    "results_sig_all<-with(results_sig_all, results_sig_all[order(cluster, consistent,-abs(FC)),])\n"
   ]
  },
  {
   "cell_type": "code",
   "execution_count": null,
   "id": "38fb7089",
   "metadata": {},
   "outputs": [],
   "source": [
    "consistency<-as.data.frame.matrix(table(results_sig_all$cluster,results_sig_all$consistent))\n"
   ]
  },
  {
   "cell_type": "code",
   "execution_count": null,
   "id": "3ea4ffb7",
   "metadata": {},
   "outputs": [],
   "source": [
    "to_plot<-results_sig_all[results_sig_all$consistent==\"Yes\",]\n",
    "to_plot<-to_plot %>% group_by(cluster) %>% arrange(desc(FC)) %>% \n",
    "   top_n(5, FC)\n",
    "to_plot<-with(to_plot, to_plot[order(cluster,corr),])\n",
    "to_plot$primerid<-factor(to_plot$primerid,levels=unique(to_plot$primerid))\n",
    "\n",
    "to_plot_lines_pos<-to_plot[to_plot$corr>0,\"primerid\"]$primerid\n",
    "to_plot_lines_neg<-to_plot[to_plot$corr<0,\"primerid\"]$primerid"
   ]
  },
  {
   "cell_type": "code",
   "execution_count": null,
   "id": "c9b1f786",
   "metadata": {},
   "outputs": [],
   "source": [
    "p<-ggplot(droplevels(to_plot), aes(x=consistent, y=primerid))+  \n",
    "  geom_tile(aes(fill= corr),color = \"black\")+\n",
    "    scale_fill_gradient2(low=\"blue\", high=\"red\", limits=c(-1,1))+\n",
    "    theme(strip.text = element_text(size=4), legend.text = element_text(size=5),legend.title = element_text(size=5),legend.key.size = unit(0.3, \"cm\"),\n",
    "          panel.grid.major = element_blank(), panel.grid.minor = element_blank(),\n",
    "    panel.background = element_blank(), axis.line = element_line(colour = \"white\"),axis.text=element_text(size=6,color=\"black\"),\n",
    "          text=element_text(size=4),strip.background = element_blank(), axis.text.x = element_text(\n",
    "                                                                                                   angle = 45, vjust = 1, hjust=1,size=0),\n",
    "        axis.text.y = element_text(,size=4.5,vjust = 0.5, hjust=1,face = \"italic\"),\n",
    "        axis.title.x = element_blank(),axis.ticks.x=element_blank(),axis.ticks.y=element_blank(),\n",
    "          axis.title.y = element_blank())+\n",
    "\n",
    "    geom_text(data=droplevels(to_plot),aes(x=consistent,y=primerid,label=round(p,3)),\n",
    "              size=1.5,angle=0)+xlab(\" \")+ylab(\" \")\n",
    "p\n",
    "tiff(\"heatmap_consistent_corr_italic.tiff\", res = 400, units = \"in\", width = 1.5, height = 2)\n",
    "p\n",
    "dev.off()#fac"
   ]
  },
  {
   "cell_type": "code",
   "execution_count": null,
   "id": "4dba9f8d",
   "metadata": {},
   "outputs": [],
   "source": [
    "write.csv(to_plot,\"to_plot_heatmap.csv\")"
   ]
  },
  {
   "cell_type": "code",
   "execution_count": null,
   "id": "910c5bbd",
   "metadata": {},
   "outputs": [],
   "source": [
    "to_plot_lines_pos<-to_plot[to_plot$corr>0,\"primerid\"]$primerid\n",
    "to_plot_lines_pos<-as.data.frame(bulk_2_AD_AG_marker_genes_rd[,colnames(bulk_2_AD_AG_marker_genes_rd) %in% to_plot_lines_pos])\n",
    "to_plot_lines_pos$Sample<-rownames(to_plot_lines_pos)\n",
    "to_plot_lines_pos<-melt(to_plot_lines_pos)\n",
    "colnames(to_plot_lines_pos)<-c(\"Sample\",\"gene\",\"expression\")\n",
    "to_plot_lines_pos$gene<-factor(to_plot_lines_pos$gene,levels=unique(to_plot_lines_pos$gene))\n",
    "age<-data_adol_aging[\"Age_full_year\"]\n",
    "age$Sample<-rownames(age)\n",
    "to_plot_lines_pos<-merge(to_plot_lines_pos,age, by=\"Sample\")\n",
    "the_plot<-ggplot(to_plot_lines_pos, aes(x = Age_full_year, y = expression))+\n",
    "         geom_point(aes(color=gene)) +\n",
    "         geom_line(aes(group = gene)) +theme_minimal() +theme(legend.text = element_text(size=7,face = \"italic\"),legend.title = element_text(size=8),legend.key.size = unit(0.3, \"cm\"))\n",
    "tiff(\"postive_corr_consistent_italic.tiff\", res = 400, units = \"in\", width = 4, height = 3)\n",
    "\n",
    "the_plot        \n",
    "dev.off()"
   ]
  },
  {
   "cell_type": "code",
   "execution_count": null,
   "id": "1b1f56b5",
   "metadata": {},
   "outputs": [],
   "source": [
    "to_plot_lines_neg<-to_plot[to_plot$corr<0,\"primerid\"]$primerid\n",
    "to_plot_lines_neg<-as.data.frame(bulk_2_AD_AG_marker_genes_rd[,colnames(bulk_2_AD_AG_marker_genes_rd) %in% to_plot_lines_neg])\n",
    "to_plot_lines_neg$Sample<-rownames(to_plot_lines_neg)\n",
    "to_plot_lines_neg<-melt(to_plot_lines_neg)\n",
    "colnames(to_plot_lines_neg)<-c(\"Sample\",\"gene\",\"expression\")\n",
    "to_plot_lines_neg$gene<-factor(to_plot_lines_neg$gene,levels=unique(to_plot_lines_neg$gene))\n",
    "age<-data_adol_aging[\"Age_full_year\"]\n",
    "age$Sample<-rownames(age)\n",
    "to_plot_lines_neg<-merge(to_plot_lines_neg,age, by=\"Sample\")\n",
    "the_plot<-ggplot(to_plot_lines_neg, aes(x = Age_full_year, y = expression))+\n",
    "         geom_point(aes(color=gene)) +\n",
    "         geom_line(aes(group = gene)) +theme_minimal() +theme(legend.text = element_text(size=7,face = \"italic\"),legend.title = element_text(size=8),legend.key.size = unit(0.3, \"cm\"))\n",
    "tiff(\"negtive_corr_consistent_italic.tiff\", res = 400, units = \"in\", width = 4, height = 3)\n",
    "\n",
    "the_plot        \n",
    "dev.off()"
   ]
  },
  {
   "cell_type": "code",
   "execution_count": null,
   "id": "f982e663",
   "metadata": {},
   "outputs": [],
   "source": []
  }
 ],
 "metadata": {
  "kernelspec": {
   "display_name": "R 4.2.1 (native)",
   "language": "R",
   "name": "ir421_native"
  },
  "language_info": {
   "codemirror_mode": "r",
   "file_extension": ".r",
   "mimetype": "text/x-r-source",
   "name": "R",
   "pygments_lexer": "r",
   "version": "4.2.1"
  }
 },
 "nbformat": 4,
 "nbformat_minor": 5
}

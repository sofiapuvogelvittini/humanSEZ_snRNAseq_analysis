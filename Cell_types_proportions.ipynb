{
 "cells": [
  {
   "cell_type": "code",
   "execution_count": null,
   "id": "fe72ad6e",
   "metadata": {
    "scrolled": true
   },
   "outputs": [],
   "source": [
    "library(Seurat)\n",
    "library(data.table)\n",
    "library(ggplot2)\n",
    "library(readxl)\n",
    "library(dplyr)\n",
    "library(ggplot2) \n",
    "library(viridis)\n",
    "library(stringr)\n",
    "library(lme4)\n"
   ]
  },
  {
   "cell_type": "code",
   "execution_count": null,
   "id": "e8e1b368",
   "metadata": {},
   "outputs": [],
   "source": [
    "setwd(\".../Test_Code\")"
   ]
  },
  {
   "cell_type": "code",
   "execution_count": null,
   "id": "0052c8c0",
   "metadata": {},
   "outputs": [],
   "source": [
    "datasets <- readRDS(\".../RData/SEZ_seurat_object.rds\")\n",
    "#readRDS(\"SEZ_object.rds\")# readRDS(\"SEZ_object.rds\")\n",
    "DefaultAssay(datasets) <- \"RNA\"\n",
    "#Idents(datasets) <- datasets$cluster\n",
    "cells<-levels(datasets)\n"
   ]
  },
  {
   "cell_type": "code",
   "execution_count": null,
   "id": "75569e01",
   "metadata": {},
   "outputs": [],
   "source": [
    "cells<-levels(datasets)\n"
   ]
  },
  {
   "cell_type": "code",
   "execution_count": null,
   "id": "ae630c87",
   "metadata": {},
   "outputs": [],
   "source": [
    "group_info<-data.frame(\"case\"=c(\"A\",\"B\",\"C\",\"D\",\"E\",\"F\",\"G\",\"H\"), \"group\"=c(\"Y\",\"Y\",\"Y\",\"Y\",\"M\",\"M\",\"M\",\"M\"))\n",
    "\n",
    "# make a dataframe of the relative counts\n",
    "rel_counts <- table(datasets$cluster, datasets$case) \n",
    "dg <- as.data.frame(rel_counts)\n",
    "colnames(dg) <- c(\"cluster\", \"case\", \"counts\")\n",
    "dg$group <- group_info$group[match(dg$case, group_info$case)]\n",
    "\n",
    "dg$id <- paste(dg$cluster, dg$group, sep = \"-\")\n",
    "\n",
    "require(dplyr)\n",
    "dg <- dg %>% group_by(case) %>% mutate(Percentage=round(counts/sum(counts)*100,4))\n",
    "dg <- dg %>% group_by(case) %>% mutate(tot_counts=sum(counts))\n",
    "\n",
    "dg <- dg %>% group_by(case) %>% mutate(Proportions=round(counts/sum(counts),4))\n",
    "\n",
    "dg$not_counts<-dg$tot_counts-dg$counts\n",
    "dg$group<-factor(dg$group)\n",
    "dg$case<-factor(dg$case)\n",
    "\n",
    "dg$case<-factor(dg$case)\n",
    "length(levels(dg$case))\n",
    "dg <- dg %>% mutate(group = relevel(group, \"Y\"))\n",
    "dg$cluster<-factor(dg$cluster, levels = cells) \n",
    "dg<-with(dg, dg[order(cluster),])\n",
    "\n",
    "\n",
    "\n",
    "dg_list <- split( dg, f = dg$cluster )\n",
    "\n",
    "write.csv(dg,\"counts_and_proportions.csv\")"
   ]
  },
  {
   "cell_type": "code",
   "execution_count": null,
   "id": "6a8d79e9",
   "metadata": {},
   "outputs": [],
   "source": [
    "stats<-dg %>% group_by(cluster) %>%  mutate(percentage=Proportions*100) %>% \n",
    "              summarise(mean_percentage = mean(percentage),  sd=sd(percentage))\n",
    "sum(stats$mean_percentage)\n",
    "write.csv(stats, \"stats_all_clusters_case.csv\")"
   ]
  },
  {
   "cell_type": "code",
   "execution_count": null,
   "id": "a4f04898",
   "metadata": {},
   "outputs": [],
   "source": [
    "clusters<-cells\n",
    "models_middleage_coef<-c()\n",
    "models_p_value<-c()\n",
    "models_cells<-list()\n",
    "for (cluster in clusters){\n",
    "    print(cluster)\n",
    "    model <- glm(cbind(counts,not_counts) ~ group , family = quasibinomial,\n",
    "          data = dg_list[[cluster]])#+ sorter\n",
    "    models_cells[[cluster]]<-model\n",
    "    middleage_coef=coef(model)[2]\n",
    "    middleage_p_value=coef(summary(model))[\"groupM\",4]\n",
    "    models_middleage_coef=c(models_middleage_coef,middleage_coef)\n",
    "    models_p_value=c(models_p_value,middleage_p_value)\n",
    "\n",
    "             \n",
    "\n",
    "    }#+sorter\n",
    "#output\n",
    "models_out<-data.frame(clusters)\n",
    "models_out$middleage_coef<-models_middleage_coef\n",
    "models_out$p_value<-models_p_value\n",
    "\n",
    "models_out$bon_adj_pvalue<-p.adjust(models_p_value, method =\"fdr\", n = length(models_p_value))\n",
    "rownames(models_out)<-clusters\n",
    "models_out\n",
    "write.csv(models_out, \"glm_proportions_all_cluster_quasibinomial_fdr_case.csv\")"
   ]
  },
  {
   "cell_type": "code",
   "execution_count": null,
   "id": "6b95101b",
   "metadata": {},
   "outputs": [],
   "source": [
    "q <- ggplot(dg, aes(x=group, y=Proportions)) + \n",
    "     geom_boxplot(outlier.shape = NA,size=0.8)#geom_violin(trim=FALSE)#colour = \"#999999\",\n",
    "q<-q+\n",
    "    ylab(\"\") + xlab(\"\") +\n",
    "    \n",
    "    geom_jitter(aes(fill=case),size = 4.3,position = position_jitter(seed = 2,w = 0.4, h = 0),shape=21)+\n",
    "    \n",
    "    \n",
    "    theme(strip.text = element_text(size=20),legend.key = element_rect(fill = \"white\"),\n",
    "          panel.grid.major = element_blank(), panel.grid.minor = element_blank(),\n",
    "    panel.background = element_blank(), axis.line = element_line(colour = \"black\"),axis.text=element_text(size=17,color=\"black\"),\n",
    "          text=element_text( face = \"bold\" ,family=\"Arial\", size=20),strip.background = element_blank(), axis.text.x=element_blank(),\n",
    "        axis.ticks.x=element_blank(),axis.text.y = element_text(size=18))+ # scale_y_continuous(limits = c(0, NA))\n",
    "\n",
    "    facet_wrap(~cluster,scales = \"free\",ncol=2)\n",
    "\n",
    "\n",
    "tiff(\"boxplot_proportions_all_cluster_donors.tiff\", res = 400, units = \"in\", width = 7, height = 17.5)\n",
    "q\n",
    "dev.off()"
   ]
  }
 ],
 "metadata": {
  "kernelspec": {
   "display_name": "R 4.2.1 (native)",
   "language": "R",
   "name": "ir421_native"
  },
  "language_info": {
   "codemirror_mode": "r",
   "file_extension": ".r",
   "mimetype": "text/x-r-source",
   "name": "R",
   "pygments_lexer": "r",
   "version": "4.2.1"
  }
 },
 "nbformat": 4,
 "nbformat_minor": 5
}

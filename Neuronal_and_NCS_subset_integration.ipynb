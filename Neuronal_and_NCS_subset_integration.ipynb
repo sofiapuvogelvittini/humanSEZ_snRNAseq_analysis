{
 "cells": [
  {
   "cell_type": "code",
   "execution_count": null,
   "id": "b7c2e7be",
   "metadata": {},
   "outputs": [],
   "source": [
    "library(ggplot2)\n",
    "library(Seurat)\n",
    "library(future)\n",
    "library(data.table)\n",
    "library(readxl)\n",
    "library(plyr)\n",
    "\n",
    "library(dplyr)\n",
    "library(extrafont)\n",
    "library(reshape2)\n",
    "\n",
    "library(viridis)\n",
    "library(knitr)\n",
    "library(stringr)\n",
    "library(NMF)\n",
    "library(rsvd)\n",
    "library(lme4)\n",
    "library(RColorBrewer)\n",
    "\n",
    "library(gtools)\n",
    "library(gprofiler2)\n",
    "options(future.globals.maxSize  = 8000*1024^2)"
   ]
  },
  {
   "cell_type": "code",
   "execution_count": null,
   "id": "f3022f80",
   "metadata": {},
   "outputs": [],
   "source": [
    "datasets <- readRDS(\".../RData/SEZ_seurat_object.rds\")\n",
    "DefaultAssay(datasets) <- \"RNA\""
   ]
  },
  {
   "cell_type": "code",
   "execution_count": null,
   "id": "a6b67450",
   "metadata": {},
   "outputs": [],
   "source": [
    "ast<-subset(datasets,ident=c('16','0','7','8',\n",
    "                            \n",
    "                            '19',\n",
    "                            '11','13','14',\n",
    "                            '2','3','12','10',\n",
    "                            '9'\n",
    "                            \n",
    "                            ))\n",
    "droplevels(ast)\n",
    "levels(ast)"
   ]
  },
  {
   "cell_type": "code",
   "execution_count": null,
   "id": "a1b80775",
   "metadata": {},
   "outputs": [],
   "source": [
    "DefaultAssay(ast) <- 'RNA'\n",
    "ast[['integrated']]<- NULL\n",
    "ast <- SplitObject(ast, split.by = 'donor_ID')\n",
    "\n",
    "print(length(ast))\n",
    "print('start find variable features.')\n",
    "gc()\n",
    "for (i in 1:length(ast)) {\n",
    "    print(i)\n",
    "    ast[[i]] <- NormalizeData(ast[[i]], verbose = FALSE)\n",
    "    ast[[i]] <- FindVariableFeatures(ast[[i]], selection.method = \"vst\",  nfeatures = 2000, verbose = TRUE)\n",
    "}\n",
    "\n",
    "#features <- SelectIntegrationFeatures(object.list = ast)\n",
    "# do CCA-based integration\n",
    "gc()\n",
    "anchors <- FindIntegrationAnchors(object.list = ast, \n",
    "                                  anchor.features = 2000, \n",
    "                                  dims = 1:30, reduction = 'cca', normalization.method = \"LogNormalize\")\n",
    "\n",
    "saveRDS(anchors, file =  \"anchors_NSCs_neurons.rds\")\n",
    "gc()"
   ]
  },
  {
   "cell_type": "code",
   "execution_count": null,
   "id": "d2d9f8e7",
   "metadata": {},
   "outputs": [],
   "source": [
    "# integrate\n",
    "\n",
    "anchors <- readRDS(\"anchors_NSCs_neurons.rds\")\n",
    "ast <- IntegrateData(anchorset = anchors, dims = 1:30, \n",
    "                                 normalization.method = \"LogNormalize\", k.weight = 100)\n",
    "\n",
    "DefaultAssay(ast) <- 'integrated'\n",
    "\n",
    "print('done with integration, saving object..')\n",
    "\n",
    "\n",
    "DefaultAssay(ast) <- 'integrated'\n",
    "saveRDS(ast, file = \"NSCs_neurons_CCA.rds\")\n",
    "\n",
    "# check if there are no NAs, sanity check\n",
    "print(' number of NAs in integrated data' )\n",
    "sum(is.na(ast[[\"integrated\"]]@data))\n",
    "\n",
    "# new clustering\n",
    "print('scale')\n",
    "ast <- ScaleData(object = ast, vars.to.regress = c(\"nCount_RNA\", \"percent.mito\", \"percent.ribo\",\"nFeature_RNA\"))\n",
    "saveRDS(ast, file = \"NSCs_neurons_CCA_scaled.rds\")\n",
    "\n",
    "print('PCA')\n",
    "\n",
    "ast <- RunPCA(ast, npcs = 50)\n",
    "ElbowPlot(ast, ndims = 50)\n",
    "print('check ndims')\n",
    "\n",
    "saveRDS(ast, file = \"NSCs_neurons_CCA_scaled.rds\")"
   ]
  }
 ],
 "metadata": {
  "kernelspec": {
   "display_name": "R 4.2.1 (native)",
   "language": "R",
   "name": "ir421_native"
  },
  "language_info": {
   "codemirror_mode": "r",
   "file_extension": ".r",
   "mimetype": "text/x-r-source",
   "name": "R",
   "pygments_lexer": "r",
   "version": "4.2.1"
  }
 },
 "nbformat": 4,
 "nbformat_minor": 5
}

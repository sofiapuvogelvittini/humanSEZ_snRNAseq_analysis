{
 "cells": [
  {
   "cell_type": "code",
   "execution_count": null,
   "id": "767a2d9c",
   "metadata": {
    "scrolled": false
   },
   "outputs": [],
   "source": [
    "library(Seurat)\n",
    "library(data.table)\n",
    "library(ggplot2)\n",
    "library(readxl)\n",
    "library(plyr)\n",
    "\n",
    "library(dplyr)\n",
    "library(extrafont)\n",
    "library(reshape2)\n",
    "\n",
    "library(viridis)\n",
    "library(knitr)\n",
    "library(stringr)\n",
    "library(NMF)\n",
    "library(rsvd)\n",
    "library(lme4)\n",
    "library(RColorBrewer)\n",
    "\n",
    "library(gtools)\n",
    "library(gprofiler2)\n",
    "\n",
    "\n",
    "#font_import()\n",
    "datasets <- readRDS(\".../RData/SEZ_seurat_object.rds\")\n",
    "DefaultAssay(datasets) <- \"RNA\"\n",
    "levels(datasets)"
   ]
  },
  {
   "cell_type": "code",
   "execution_count": null,
   "id": "c5713d25",
   "metadata": {},
   "outputs": [],
   "source": [
    "library(Seurat)\n",
    "library(data.table)\n",
    "library(ggplot2)\n",
    "\n",
    "library(dplyr)\n",
    "library(plyr)\n",
    "library(readxl)"
   ]
  },
  {
   "cell_type": "code",
   "execution_count": null,
   "id": "38d7cb25",
   "metadata": {},
   "outputs": [],
   "source": [
    "setwd(\".../SVZ/Test_Code\")"
   ]
  },
  {
   "cell_type": "code",
   "execution_count": null,
   "id": "0de8a94a",
   "metadata": {},
   "outputs": [],
   "source": [
    "#y subset for astrocytes/NSCs and neurons\n",
    "NG<-subset(datasets,ident=c('16','0','7','8',\n",
    "                            \n",
    "                            '19',\n",
    "                            '11','13','14',\n",
    "                            '2','3','12','10',\n",
    "                            '9'\n",
    "                            \n",
    "                            ))#,'15''18''6','17','1','5','4',\n",
    "droplevels(NG)\n",
    "levels(NG)"
   ]
  },
  {
   "cell_type": "code",
   "execution_count": null,
   "id": "0f24123f",
   "metadata": {},
   "outputs": [],
   "source": [
    "ucols_NG<-c(\"#993399\", \"#FFCCFF\", '#CC0099' ,\n",
    "             \"#999999\",\n",
    "          \n",
    "             \"#333333\",'#3333FF',\"#33CCFF\",\"#99FFFF\",#\"#9933FF\",'#66CC99',\"#009966\",\"#006633\",\n",
    "             '#99FF33', \"#999900\", \"#CCCC66\", \"#666633\", \n",
    "             \"#9966CC\") #"
   ]
  },
  {
   "cell_type": "code",
   "execution_count": null,
   "id": "a5fc282c",
   "metadata": {},
   "outputs": [],
   "source": [
    "#csv containing the marker genes of each reference cell type\n",
    "markers <- read.csv(file = \".../RData/Zywitza_and_Xie_ds2_terms.csv\", header = T, stringsAsFactors = F)\n",
    "markers[markers==\"\"]<-NA\n",
    "head(markers)"
   ]
  },
  {
   "cell_type": "code",
   "execution_count": null,
   "id": "0755b601",
   "metadata": {},
   "outputs": [],
   "source": [
    "#eliminate mitocondrial genes from the reference\n",
    "selected_terms<-markers \n",
    "#selected_terms_2\n",
    "selected_terms_2<-selected_terms\n",
    "for(i in 1:ncol(selected_terms_2)){\n",
    "    df_i<-selected_terms_2[i]\n",
    "    for(x in 1:nrow(df_i)){\n",
    "        val<-df_i[x,1]\n",
    "        selected_terms_2[x,i]<-ifelse(grepl(\"^MT-\", val),\"NA\",val)\n",
    "    }\n",
    "    \n",
    "    \n",
    "    }\n",
    "#selected_terms_2#no MT-genes\n",
    "#selected_terms_2<-selected_terms_2[2:16]\n",
    "selected_terms_2"
   ]
  },
  {
   "cell_type": "code",
   "execution_count": null,
   "id": "1b57fa63",
   "metadata": {},
   "outputs": [],
   "source": [
    "#calculate the module scores\n",
    "start<-length(NG@meta.data)\n",
    "for (column in 1:ncol(selected_terms_2)){\n",
    "    NG <- AddModuleScore(NG, features = list(na.omit(selected_terms_2[,column])), name = colnames(selected_terms_2)[column])\n",
    "    }"
   ]
  },
  {
   "cell_type": "code",
   "execution_count": null,
   "id": "9f8b8c89",
   "metadata": {},
   "outputs": [],
   "source": [
    "start\n",
    "a=start+1\n",
    "a\n",
    "l=length(NG@meta.data)[]\n",
    "assays<-colnames(NG@meta.data[,a:l])\n",
    "assays\n",
    "NG_2<-NG\n",
    "list_of_average<-list()\n",
    "meta<-NG_2@meta.data\n",
    "\n",
    "for (i in 1:length(assays)){\n",
    "    ass_i<-assays[i]\n",
    "    vec<-c('cluster', ass_i)\n",
    "    \n",
    "    data<-meta[,vec]\n",
    "    \n",
    "\n",
    "    data_2<-data %>%\n",
    "    group_by(cluster) %>%\n",
    "    summarise_at(vars(ass_i), list(name = mean))\n",
    "    list_of_average[[ass_i]]<-data_2\n",
    "    \n",
    "    \n",
    "}\n",
    "#list_of_average_2\n",
    "clusters_vec<-list_of_average[[1]]$cluster\n",
    "list_of_average_2<-list_of_average\n",
    "list_of_average_2<-lapply(list_of_average_2, \"[\", -c(1))\n",
    "list_of_average_2_df<-do.call(\"cbind\", list_of_average_2)\n",
    "\n",
    "colnames(list_of_average_2_df)<-assays\n",
    "rownames(list_of_average_2_df)<-clusters_vec\n",
    "list_of_average_2_df$cluster<-rownames(list_of_average_2_df)\n",
    "data1 <- melt(list_of_average_2_df)\n",
    "min<-min(data1$value)\n",
    "max<-max(data1$value)\n",
    "min\n",
    "max"
   ]
  },
  {
   "cell_type": "code",
   "execution_count": null,
   "id": "f872d49b",
   "metadata": {},
   "outputs": [],
   "source": [
    "#you can save the info\n",
    "write.csv(data1,\"data_heatmap_zywitza_xieds2.csv\")"
   ]
  },
  {
   "cell_type": "code",
   "execution_count": null,
   "id": "4a1661cc",
   "metadata": {},
   "outputs": [],
   "source": [
    "data1=read.csv(\"data_heatmap_zywitza_xieds2.csv\")\n",
    "head(data1)"
   ]
  },
  {
   "cell_type": "code",
   "execution_count": null,
   "id": "c2d39d44",
   "metadata": {},
   "outputs": [],
   "source": [
    "levels(factor(data1$variable))"
   ]
  },
  {
   "cell_type": "code",
   "execution_count": null,
   "id": "598c49fc",
   "metadata": {},
   "outputs": [],
   "source": [
    "#you can skip this or make it nicer, it is just to eliminate the \"1\"\n",
    "#that appears in the name after the addmodulescores\n",
    "order=c(\n",
    "       'Zywitza_TAPs1','Zywitza_aNSC1','Zywitza_Neuroblasts1','Zywitza_Ependymal1',\n",
    "       'Zywitza_nicheAstrocytes1','Zywitza_D1_MSNs1','Zywitza_D2_MSN1','Xie_H01','Xie_H11','Xie_H21','Xie_H31','Xie_L01','Xie_L11','Xie_L21','Xie_N41')\n",
    "no_1=c(\n",
    "       'Zywitza_TAPs','Zywitza_aNSC','Zywitza_Neuroblasts','Zywitza_Ependymal',\n",
    "       'Zywitza_nicheAstrocytes','Zywitza_D1_MSNs','Zywitza_D2_MSN','Xie_H0','Xie_H1',\n",
    "    'Xie_H2','Xie_H3','Xie_L0','Xie_L1','Xie_L2','Xie_N4')"
   ]
  },
  {
   "cell_type": "code",
   "execution_count": null,
   "id": "dc28e128",
   "metadata": {},
   "outputs": [],
   "source": [
    "data1$variable=factor(data1$variable, order)"
   ]
  },
  {
   "cell_type": "code",
   "execution_count": null,
   "id": "40559d57",
   "metadata": {},
   "outputs": [],
   "source": [
    "levels(data1$variable)=no_1"
   ]
  },
  {
   "cell_type": "code",
   "execution_count": null,
   "id": "f8ccb6a5",
   "metadata": {},
   "outputs": [],
   "source": [
    "cols = brewer.pal(9, \"PuRd\")#YlOrRd rev\n",
    "cols"
   ]
  },
  {
   "cell_type": "code",
   "execution_count": null,
   "id": "6c0a4952",
   "metadata": {},
   "outputs": [],
   "source": [
    "\n",
    "p<-ggplot(data1, aes(x = factor(cluster,levels=c('16','0','7','8',\n",
    "                             '19','11','13','14','2','3','12','10','9')), y = variable, fill = value)) +\n",
    "  geom_tile(color = \"black\")+\n",
    "    scale_fill_gradient(low=\"#E7E1EF\", high=\"#67001F\", limits=c(0.25,max),na.value = \"white\")+# you can change the low limit. In this case, enrichment below 0.25 are depicted in white\n",
    " theme(strip.text = element_text(size=15),\n",
    "          panel.grid.major = element_blank(), panel.grid.minor = element_blank(),\n",
    "    panel.background = element_blank(), axis.line = element_line(colour = \"white\"),axis.text=element_text(size=15,color=\"black\"),\n",
    "          text=element_text( face = \"bold\" ,family=\"Arial\", size=15),strip.background = element_blank(), axis.text.x = element_text(angle = 45, vjust = 0.5, hjust=0.5,size=15),\n",
    "        axis.text.y = element_text(size=12),\n",
    "         axis.title.x = element_blank(),axis.ticks.x=element_blank(),axis.ticks.y=element_blank(),\n",
    "          axis.title.y = element_blank())\n",
    "p\n",
    "tiff(\"heatmap_zywitza_xieds2.tiff\", res = 400, units = \"in\", width = 7, height = 5)\n",
    "p\n",
    "dev.off()"
   ]
  }
 ],
 "metadata": {
  "kernelspec": {
   "display_name": "R 4.2.1 (native)",
   "language": "R",
   "name": "ir421_native"
  },
  "language_info": {
   "codemirror_mode": "r",
   "file_extension": ".r",
   "mimetype": "text/x-r-source",
   "name": "R",
   "pygments_lexer": "r",
   "version": "4.2.1"
  }
 },
 "nbformat": 4,
 "nbformat_minor": 5
}

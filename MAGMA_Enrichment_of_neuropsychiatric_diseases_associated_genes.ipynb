{
 "cells": [
  {
   "cell_type": "code",
   "execution_count": null,
   "id": "5e4b06ca",
   "metadata": {},
   "outputs": [],
   "source": [
    "#MAGMA: to identify genetic association between particular cell types and a trait.\n",
    "#in this sits: https://github.com/neurogenomics/MAGMA_Files_Public/blob/master/metadata.csv\n",
    "#you can find already processed GWAS results.\n",
    "#You also need a .csv file with the codes of the GWAS and the name of the study/trait, this will facilitate plotting. \n",
    "# R.4.1\n",
    "rm()\n",
    "library(ggplot2)\n",
    "library(reshape2)\n",
    "library(data.table)\n",
    "library(knitr)\n",
    "library(stringr)\n",
    "#library(NMF)\n",
    "library(rsvd)\n",
    "library(lme4)\n",
    "library(RColorBrewer)\n",
    "library(Seurat)\n",
    "library(SingleCellExperiment)\n",
    "library(data.table)\n",
    " library(dplyr)\n",
    "library(MAGMA.Celltyping)\n",
    "library(ggplot2)\n"
   ]
  },
  {
   "cell_type": "code",
   "execution_count": null,
   "id": "949bef3c",
   "metadata": {},
   "outputs": [],
   "source": [
    "setwd(\".../MAGMA\")"
   ]
  },
  {
   "cell_type": "code",
   "execution_count": null,
   "id": "fbee111c",
   "metadata": {},
   "outputs": [],
   "source": [
    "\n",
    "storage_dir <- \".../MAGMA/storage\""
   ]
  },
  {
   "cell_type": "code",
   "execution_count": null,
   "id": "c883ff35",
   "metadata": {},
   "outputs": [],
   "source": [
    "NG <-readRDS(\".../RData/SEZ_seurat_object.rds\")\n",
    "\n",
    "DefaultAssay(NG) <- \"RNA\"\n",
    "Idents(NG) <- NG$cluster\n",
    "\n",
    "order<-c('16','0','7','8', '19',\n",
    "            '11','13','14',\n",
    "         '2','3','12','10',\n",
    "                        '9')\n",
    "\n",
    "\n",
    "\n",
    "Idents(NG) <- factor(x = Idents(NG), levels = order)\n",
    "levels(NG)"
   ]
  },
  {
   "cell_type": "code",
   "execution_count": null,
   "id": "9be4556a",
   "metadata": {},
   "outputs": [],
   "source": [
    "MAGMA_results <- MAGMA.Celltyping::celltype_associations_pipeline(\n",
    "  magma_dirs = magma_dirs,\n",
    "  ctd = ctd_2,\n",
    "  ctd_species = \"human\", \n",
    "  ctd_name = \"NSCs_neurons\", \n",
    "  run_linear = TRUE, \n",
    "    run_top10 = TRUE,\n",
    "    run_conditional = TRUE)\n"
   ]
  },
  {
   "cell_type": "code",
   "execution_count": null,
   "id": "faaf6ce0",
   "metadata": {},
   "outputs": [],
   "source": [
    "merged_results <- MAGMA.Celltyping::merge_results(MAGMA_results = MAGMA_results)\n",
    "knitr::kable(merged_results)\n",
    "write.csv(merged_results, \"GWAS_NSCs_neurons_SZ_BP_AU.csv\")"
   ]
  },
  {
   "cell_type": "code",
   "execution_count": null,
   "id": "c942c3c1",
   "metadata": {},
   "outputs": [],
   "source": [
    "levels(factor(merged_results$GWAS))"
   ]
  },
  {
   "cell_type": "code",
   "execution_count": null,
   "id": "80c022a8",
   "metadata": {},
   "outputs": [],
   "source": [
    "codes<-read.csv('diseases_code_v2.csv')\n",
    "merged_results$disease<-codes$diesease[match(merged_results$GWAS, codes$code)]\n",
    "#merged_results"
   ]
  },
  {
   "cell_type": "code",
   "execution_count": null,
   "id": "3daae0af",
   "metadata": {},
   "outputs": [],
   "source": [
    "merged_results$disease<-factor(merged_results$disease, levels=c('SZ-Ripke-2014_v1',\n",
    "                                                               'BP-Neale-2017',\n",
    "                                                               'Autism-PCG-IPSYCH-2017'))\n",
    "levels(merged_results$disease)"
   ]
  },
  {
   "cell_type": "code",
   "execution_count": null,
   "id": "c75f6b4e",
   "metadata": {},
   "outputs": [],
   "source": [
    "order=levels(NG)\n",
    "merged_results$Celltype_id<-factor(merged_results$Celltype_id,levels=order)\n",
    "levels(merged_results$Celltype_id)"
   ]
  },
  {
   "cell_type": "code",
   "execution_count": null,
   "id": "a25f24cd",
   "metadata": {},
   "outputs": [],
   "source": [
    "merged_results_linear<-merged_results[merged_results$EnrichmentMode == 'Linear',]"
   ]
  },
  {
   "cell_type": "code",
   "execution_count": null,
   "id": "481c6c8a",
   "metadata": {},
   "outputs": [],
   "source": [
    "min<-min(merged_results_linear$FDR)\n",
    "max<-max(merged_results_linear$FDR)"
   ]
  },
  {
   "cell_type": "code",
   "execution_count": null,
   "id": "e67dd0a6",
   "metadata": {},
   "outputs": [],
   "source": [
    "tiff(\"heatmap_diseases_NSC_neurons_sig_005_SZ_BP_AU_2.tiff\", res = 400, units = \"in\", width = 7, height = 1.5)\n",
    "\n",
    "ggplot(merged_results_linear, aes(x=factor(Celltype_id, levels=order), y=disease, fill= FDR))+  \n",
    "  geom_tile(color = \"black\")+\n",
    "    scale_fill_gradient(low=\"#67001F\", high=\"#E7E1EF\", limits=c(min,0.05),na.value = \"white\")+\n",
    "\n",
    "    theme(strip.text = element_text(size=10),\n",
    "          panel.grid.major = element_blank(), panel.grid.minor = element_blank(),\n",
    "    panel.background = element_blank(), axis.line = element_line(colour = \"white\"),axis.text=element_text(size=10,color=\"black\"),\n",
    "          text=element_text( face = \"bold\" ,family=\"Arial\", size=10),strip.background = element_blank(), axis.text.x = element_text(angle = 90, vjust = 0.5, hjust=1),\n",
    "        axis.text.y = element_text(size=10),\n",
    "         axis.title.x = element_blank(),axis.ticks.x=element_blank(),axis.ticks.y=element_blank(),\n",
    "          axis.title.y = element_blank())\n",
    "dev.off()"
   ]
  },
  {
   "cell_type": "code",
   "execution_count": null,
   "id": "446dc699",
   "metadata": {},
   "outputs": [],
   "source": [
    "magma_dirs<-c(\"MAGMA_Files/ieu-a-22.vcf_cleaned_GRCh37.txt.35UP.10DOWN/\",\n",
    "             \"MAGMA_Files/ukb-a-525.vcf_cleaned_GRCh37.txt.35UP.10DOWN/\",\n",
    "               \"MAGMA_Files/ieu-a-1185.vcf_cleaned_GRCh37.txt.35UP.10DOWN\")"
   ]
  },
  {
   "cell_type": "code",
   "execution_count": null,
   "id": "53ab9427",
   "metadata": {},
   "outputs": [],
   "source": [
    "#convert my seurat to ctd\n",
    "library(EWCE)\n",
    "#obtain expression matrix pf seurat\n",
    "\n",
    "matrix<-as.matrix(GetAssayData(NG, assay = \"integrated\"))\n",
    "\n",
    "#matrix<-t(matrix)#cells should be rows\n",
    "var_genes<-rownames(matrix)\n",
    "\n",
    "\n",
    "logcounts <- as.matrix(GetAssayData(NG,slot = \"data\")[var_genes,])\n",
    "meta <- as.data.frame(NG@meta.data)\n",
    "fdata <- data.frame(primerid=rownames(NG), stringsAsFactors = F)\n",
    "annotLevels1<-as.character(meta$cluster)\n",
    "annotLevels2<-as.character(meta$hier_cluster)\n",
    "\n",
    "annotLevels_l<-list(annotLevels1,annotLevels2)#\n",
    "\n",
    "\n",
    "ctd<-generate_celltype_data(logcounts,groupName = \"NSCs_neurons\",\n",
    "  annotLevels_l,\n",
    "  savePath=storage_dir)\n",
    "\n",
    "ctd_2 <- EWCE::load_rdata(ctd)"
   ]
  },
  {
   "cell_type": "code",
   "execution_count": null,
   "id": "af50bd54",
   "metadata": {},
   "outputs": [],
   "source": [
    "MAGMA_results <- MAGMA.Celltyping::celltype_associations_pipeline(\n",
    "  magma_dirs = magma_dirs,\n",
    "  ctd = ctd_2,\n",
    "  ctd_species = \"human\", \n",
    "  ctd_name = \"NSCs_neurons\", \n",
    "  run_linear = TRUE, \n",
    "    run_top10 = TRUE,\n",
    "    run_conditional = TRUE)\n",
    "\n",
    "\n",
    "merged_results <- MAGMA.Celltyping::merge_results(MAGMA_results = MAGMA_results)\n",
    "knitr::kable(merged_results)\n",
    "write.csv(merged_results, \"GWAS_NSCs_neurons_SZ_BP_AU.csv\")\n",
    "\n",
    "levels(factor(merged_results$GWAS))\n",
    "\n",
    "codes<-read.csv('diseases_code_v2.csv')\n",
    "merged_results$disease<-codes$diesease[match(merged_results$GWAS, codes$code)]\n",
    "#merged_results\n",
    "\n",
    "merged_results$disease<-factor(merged_results$disease, levels=c('SZ-Ripke-2014_v1',\n",
    "                                                               'BP-Neale-2017',\n",
    "                                                               'Autism-PCG-IPSYCH-2017'))\n",
    "levels(merged_results$disease)\n",
    "\n",
    "order=levels(NG)\n",
    "merged_results$Celltype_id<-factor(merged_results$Celltype_id,levels=order)\n",
    "levels(merged_results$Celltype_id)\n",
    "\n",
    "merged_results_linear<-merged_results[merged_results$EnrichmentMode == 'Linear',]\n",
    "\n",
    "min<-min(merged_results_linear$FDR)\n",
    "max<-max(merged_results_linear$FDR)\n",
    "\n",
    "tiff(\"heatmap_diseases_NSC_neurons_sig_005_SZ_BP_AU_2.tiff\", res = 400, units = \"in\", width = 7, height = 1.5)\n",
    "\n",
    "ggplot(merged_results_linear, aes(x=factor(Celltype_id, levels=order), y=disease, fill= FDR))+  \n",
    "  geom_tile(color = \"black\")+\n",
    "    scale_fill_gradient(low=\"#67001F\", high=\"#E7E1EF\", limits=c(min,0.05),na.value = \"white\")+\n",
    "\n",
    "    theme(strip.text = element_text(size=10),\n",
    "          panel.grid.major = element_blank(), panel.grid.minor = element_blank(),\n",
    "    panel.background = element_blank(), axis.line = element_line(colour = \"white\"),axis.text=element_text(size=10,color=\"black\"),\n",
    "          text=element_text( face = \"bold\" ,family=\"Arial\", size=10),strip.background = element_blank(), axis.text.x = element_text(angle = 90, vjust = 0.5, hjust=1),\n",
    "        axis.text.y = element_text(size=10),\n",
    "         axis.title.x = element_blank(),axis.ticks.x=element_blank(),axis.ticks.y=element_blank(),\n",
    "          axis.title.y = element_blank())\n",
    "dev.off()"
   ]
  }
 ],
 "metadata": {
  "kernelspec": {
   "display_name": "R 4.2.1 (native)",
   "language": "R",
   "name": "ir421_native"
  },
  "language_info": {
   "codemirror_mode": "r",
   "file_extension": ".r",
   "mimetype": "text/x-r-source",
   "name": "R",
   "pygments_lexer": "r",
   "version": "4.2.1"
  }
 },
 "nbformat": 4,
 "nbformat_minor": 5
}

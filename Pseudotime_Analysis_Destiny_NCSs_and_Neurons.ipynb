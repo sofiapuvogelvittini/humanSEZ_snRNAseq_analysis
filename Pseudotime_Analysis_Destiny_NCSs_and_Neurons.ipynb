{
 "cells": [
  {
   "cell_type": "code",
   "execution_count": null,
   "id": "777cebd2",
   "metadata": {},
   "outputs": [],
   "source": [
    "library(Seurat)\n",
    "library(data.table)\n",
    "library(ggplot2)\n",
    "library(readxl)\n",
    "library(plyr)\n",
    "\n",
    "library(dplyr)\n",
    "\n",
    "library(reshape2)\n",
    "\n",
    "library(viridis)\n",
    "library(knitr)\n",
    "library(stringr)\n",
    "library(NMF)\n",
    "library(rsvd)\n",
    "library(lme4)\n",
    "library(RColorBrewer)\n",
    "\n",
    "library(gtools)\n",
    "library(gprofiler2)\n",
    "library(destiny)\n",
    "# Plot\n",
    "library(conflicted)\n",
    "#suppressPackageStartupMessages(library(scran))\n",
    "library(purrr)\n",
    "\n",
    "library(viridis)\n",
    "library(cowplot)\n",
    "library(ggplot2)\n",
    "library(ggbeeswarm)\n",
    "library(ggthemes)"
   ]
  },
  {
   "cell_type": "code",
   "execution_count": null,
   "id": "f5481cb7",
   "metadata": {},
   "outputs": [],
   "source": [
    "setwd(\".../SVZ/Test_Code\")\n",
    "\n",
    "NG <- readRDS(\".../RData/NSCs_neurons_CCA_scaled.rds\")\n",
    "DefaultAssay(NG) <- \"RNA\"\n",
    "levels(NG)"
   ]
  },
  {
   "cell_type": "code",
   "execution_count": null,
   "id": "6ff81a89",
   "metadata": {},
   "outputs": [],
   "source": [
    "Idents(NG) <- NG$cluster\n",
    "\n",
    "order<-c('16','0','7','8', '19',\n",
    "            '11','13','14',\n",
    "         '2','3','12','10',\n",
    "                        '9')\n",
    "\n",
    "\n",
    "\n",
    "Idents(NG) <- factor(x = Idents(NG), levels = order)\n",
    "levels(NG)"
   ]
  },
  {
   "cell_type": "code",
   "execution_count": null,
   "id": "e4ce056c",
   "metadata": {},
   "outputs": [],
   "source": [
    "matrix<-as.matrix(GetAssayData(NG, assay = \"integrated\"))\n",
    "\n",
    "#matrix<-t(matrix)#cells should be rows\n",
    "var_genes<-rownames(matrix)\n",
    "\n",
    "matrix <- as.matrix(GetAssayData(NG,slot = \"data\")[var_genes,])\n",
    "matrix<-t(matrix)#cells should be rows"
   ]
  },
  {
   "cell_type": "code",
   "execution_count": null,
   "id": "aaa7c303",
   "metadata": {},
   "outputs": [],
   "source": [
    "NSC_cells <- names(NG@active.ident)"
   ]
  },
  {
   "cell_type": "code",
   "execution_count": null,
   "id": "8faaf816",
   "metadata": {},
   "outputs": [],
   "source": [
    "sigmas<-find_sigmas(matrix, verbose= FALSE)\n",
    "optimal<-optimal_sigma(sigmas)"
   ]
  },
  {
   "cell_type": "code",
   "execution_count": null,
   "id": "72b1fa52",
   "metadata": {},
   "outputs": [],
   "source": [
    "NG_DiffussionMap <- DiffusionMap(matrix,optimal) \n",
    "NG_DPT <- rank(-NG_DiffussionMap$DC1) # We take the 1st DC, DC1 are negative values.. why?\n",
    "\n",
    "\n",
    "NG_cells <- names(NG@active.ident)\n",
    "NG_RNA <- data.frame(Cell_type=as.vector(unlist(NG@active.ident[NG_cells])), Landmark=rep('NG', length(NG_cells)), Pseudotime=NG_DPT, PosLandmark=rep('Before', length(NG_cells)),row.names = NG_cells)\n"
   ]
  },
  {
   "cell_type": "code",
   "execution_count": null,
   "id": "be3fe55b",
   "metadata": {},
   "outputs": [],
   "source": [
    "NG_RNA_2<-NG_RNA\n",
    "NG_RNA_2$Cell_type<-factor(NG_RNA_2$Cell_type, levels=c('16','0','7','8',\n",
    "                            '19',\n",
    "                            '11','13','14',\n",
    "                            '2','3','12','10',\n",
    "                            '9'))\n",
    "head(NG_RNA_2)\n",
    "levels(NG_RNA_2$Cell_type)"
   ]
  },
  {
   "cell_type": "code",
   "execution_count": null,
   "id": "ac1ef9d0",
   "metadata": {},
   "outputs": [],
   "source": [
    "ucols_NG<-c(\"#993399\", \"#FFCCFF\", '#CC0099' ,\n",
    "             \"#999999\",\n",
    "          \n",
    "             \"#333333\",'#3333FF',\"#33CCFF\",\"#99FFFF\",#\"#9933FF\",'#66CC99',\"#009966\",\"#006633\",\n",
    "             '#99FF33', \"#999900\", \"#CCCC66\", \"#666633\", \n",
    "             \"#9966CC\") ###ex SST xcolor \"#99CC99\"\n",
    "b=c('16','0','7','8','19', '11','13','14','2','3','12','10','9')\n",
    "\n",
    "\n",
    "type<-factor(NG$cluster,levels=b)#, c(0:14),\n",
    "b=c('16','0','7','8','19', '11','13','14','2','3','12','10','9')\n",
    "\n",
    "\n",
    "type<-factor(NG$cluster,levels=b)#, c(0:14),\n",
    "\n",
    "tmp <- data.frame(DC1 = NG_DiffussionMap$DC1,\n",
    "                  DC2 = NG_DiffussionMap$DC2,\n",
    "                  DC3=NG_DiffussionMap$DC3,\n",
    "                  timepoint = NG_c"
   ]
  },
  {
   "cell_type": "code",
   "execution_count": null,
   "id": "6404b68a",
   "metadata": {},
   "outputs": [],
   "source": [
    "tiff(\"NSCs_neurons_destiny_variable_v2_.tiff\", res = 400, units = \"in\", width = 8, height = 5)\n",
    "\n",
    "ggplot(tmp, aes(x = DC1, y = DC2, colour =type)) +geom_point() +scale_color_manual(values=ucols_NG)+\n",
    "  theme_minimal() + \n",
    "  theme(axis.text.x = element_text(size=15, face = \"bold\", colour = \"black\",angle=45, hjust=1),\n",
    "         axis.text.y = element_text(size=15, face = \"bold\", colour = \"black\"),\n",
    "         \n",
    "         axis.text=element_text(size=15,color=\"black\"), \n",
    "         axis.title=element_text(size=15,face=\"bold\"),\n",
    "         text=element_text(face = \"bold\",family=\"Arial\",size=15),\n",
    "         legend.text = element_text(size=15, color=\"black\"), legend.title = element_blank())\n",
    "dev.off()"
   ]
  },
  {
   "cell_type": "code",
   "execution_count": null,
   "id": "b5d71d64",
   "metadata": {},
   "outputs": [],
   "source": [
    "library(\"scatterplot3d\")"
   ]
  },
  {
   "cell_type": "code",
   "execution_count": null,
   "id": "7a7eb96b",
   "metadata": {},
   "outputs": [],
   "source": [
    "colors <- ucols_NG\n",
    "colors <- colors[as.numeric(tmp$type)]"
   ]
  },
  {
   "cell_type": "code",
   "execution_count": null,
   "id": "49a93ae1",
   "metadata": {},
   "outputs": [],
   "source": [
    "tiff(\"NSCs_neurons_destiny_variable_3D_v4_2.tiff\", res = 400, units = \"in\", width = 6, height = 6)\n",
    "\n",
    "scatterplot3d(x=tmp$DC1, y=tmp$DC3, z=tmp$DC2, color=colors,pch = 16,angle=55)\n",
    "legend(\"right\", legend = levels(tmp$type),\n",
    "      col = ucols_NG , pch = 16)\n",
    "dev.off()"
   ]
  },
  {
   "cell_type": "code",
   "execution_count": null,
   "id": "0fb87c5c",
   "metadata": {},
   "outputs": [],
   "source": [
    "saveRDS(NG_DiffussionMap, \"NG_DiffussionMap_v4.rds\")"
   ]
  },
  {
   "cell_type": "code",
   "execution_count": null,
   "id": "9911f0aa",
   "metadata": {},
   "outputs": [],
   "source": [
    "matrix_df<-as.data.frame(matrix)"
   ]
  },
  {
   "cell_type": "code",
   "execution_count": null,
   "id": "2847b6c3",
   "metadata": {},
   "outputs": [],
   "source": [
    "#try to plot genes with gradient in the 3D plo\n",
    "#create a color band per gene \n",
    "\n",
    "df_3D <- data.frame(DC1 = eigenvectors(NG_DiffussionMap)[, 1], DC2 = eigenvectors(NG_DiffussionMap)[, 2],\n",
    "                    DC3 = eigenvectors(NG_DiffussionMap)[, 3],\n",
    "                 GALNTL6 = matrix_df$GALNTL6, \n",
    "                   FRMPD4 = matrix_df$FRMPD4,\n",
    "                   AC073050.1=matrix_df$AC073050.1)\n",
    "# Define colour pallete\n",
    "cols = brewer.pal(9, \"RdPu\")#YlOrRd rev\n",
    "#cols = c(\"#FFFFCC\",\"#FF3333\")\n",
    "pal = colorRampPalette(cols)\n",
    "df_3D$order = findInterval(df_3D$GALNTL6, sort(df_3D$GALNTL6))\n",
    "col=pal(nrow(df_3D))[df_3D$order]\n",
    "tiff(\"NSCs_neurons_destiny_GALNTL6.tiff\", res = 400, units = \"in\", width = 6, height = 6)\n",
    "\n",
    "scatterplot3d(x=df_3D$DC1, y=df_3D$DC3, z=df_3D$DC2, color=col,pch = 16,angle=55)\n",
    "dev.off()"
   ]
  },
  {
   "cell_type": "code",
   "execution_count": null,
   "id": "aa76735a",
   "metadata": {},
   "outputs": [],
   "source": [
    "rr<-random_root(NG_DiffussionMap)\n",
    "rr"
   ]
  },
  {
   "cell_type": "code",
   "execution_count": null,
   "id": "2ee1c797",
   "metadata": {},
   "outputs": [],
   "source": [
    "dpt <- DPT(NG_DiffussionMap,tips = random_root(NG_DiffussionMap))"
   ]
  },
  {
   "cell_type": "code",
   "execution_count": null,
   "id": "beee4451",
   "metadata": {},
   "outputs": [],
   "source": [
    "df <- data.frame(DC1 = eigenvectors(NG_DiffussionMap)[, 1], DC2 = eigenvectors(NG_DiffussionMap)[, 2], \n",
    "                 dptval = dpt$dpt, cluster = type)"
   ]
  },
  {
   "cell_type": "code",
   "execution_count": null,
   "id": "56fd7d9d",
   "metadata": {},
   "outputs": [],
   "source": [
    "p1 <- ggplot(df) + geom_point(aes(x = DC1, y = DC2, color = dptval))+ scale_color_viridis_c() +\n",
    "  theme_minimal() + \n",
    "  theme(axis.text.x = element_text(size=15, face = \"bold\", colour = \"black\",angle=45, hjust=1),\n",
    "         axis.text.y = element_text(size=15, face = \"bold\", colour = \"black\"),\n",
    "          axis.text=element_text(size=15,color=\"black\"), \n",
    "         axis.title=element_text(size=15,face=\"bold\"),\n",
    "         text=element_text(face = \"bold\",family=\"Arial\",size=15),\n",
    "         legend.text = element_text(size=15, color=\"black\"), legend.title = element_blank())\n",
    "tiff(\"pseudotime_NSCs_neurons_destiny_variable_v4.tiff\", res = 400, units = \"in\", width = 8, height = 5)\n",
    "p1\n",
    "dev.off()"
   ]
  },
  {
   "cell_type": "code",
   "execution_count": null,
   "id": "2d205d41",
   "metadata": {},
   "outputs": [],
   "source": [
    "df_3D <- data.frame(DC1 = eigenvectors(NG_DiffussionMap)[, 1], DC2 = eigenvectors(NG_DiffussionMap)[, 2],\n",
    "                    DC3 = eigenvectors(NG_DiffussionMap)[, 3],\n",
    "                 dptval = dpt$dpt, cluster = type)\n",
    "# Define colour pallete\n",
    "cols = rev(brewer.pal(9, \"YlGnBu\"))#YlOrRd\n",
    "pal = colorRampPalette(cols)\n",
    "df_3D$order = findInterval(df_3D$dptval, sort(df_3D$dptval))\n",
    "col=pal(nrow(df_3D))[df_3D$order]\n",
    "tiff(\"pseudotime_NSCs_neurons_destiny_variable_3D_blue_v4.tiff\", res = 400, units = \"in\", width = 6, height = 6)\n",
    "\n",
    "scatterplot3d(x=df_3D$DC1, y=df_3D$DC3, z=df_3D$DC2, color=col,pch = 16,angle=55)\n",
    "\n",
    "dev.off()\n",
    "\n",
    "legend_image <- as.raster(matrix(pal(9), ncol=1))\n",
    "tiff(\"pseudotime_NSCs_neurons_destiny_variable_3D_legend_blue_v3.tiff\", res = 400, units = \"in\", width = 3, height = 5)\n",
    "\n",
    "plot(c(0,2),c(0,1),type = 'n', axes = F,xlab = '', ylab = '')\n",
    "\n",
    "rasterImage(legend_image, 0, 0, 1,1)\n",
    "dev.off()"
   ]
  },
  {
   "cell_type": "code",
   "execution_count": null,
   "id": "6c1b5ad7",
   "metadata": {},
   "outputs": [],
   "source": [
    "# Define colour pallete\n",
    "cols = rev(brewer.pal(9, \"YlOrRd\"))#YlOrRd\n",
    "pal = colorRampPalette(cols)\n",
    "df_3D$order = findInterval(df_3D$dptval, sort(df_3D$dptval))\n",
    "col=pal(nrow(df_3D))[df_3D$order]\n",
    "tiff(\"pseudotime_NSCs_neurons_destiny_variable_3D_red_v2.tiff\", res = 400, units = \"in\", width = 6, height = 6)\n",
    "\n",
    "scatterplot3d(x=df_3D$DC1, y=df_3D$DC3, z=df_3D$DC2, color=col,pch = 16,angle=55)\n",
    "\n",
    "dev.off()\n",
    "\n",
    "legend_image <- as.raster(matrix(pal(9), ncol=1))\n",
    "tiff(\"pseudotime_NSCs_neurons_destiny_variable_3D_legend_red_v2.tiff\", res = 400, units = \"in\", width = 3, height = 5)\n",
    "\n",
    "plot(c(0,2),c(0,1),type = 'n', axes = F,xlab = '', ylab = '')\n",
    "\n",
    "rasterImage(legend_image, 0, 0, 1,1)\n",
    "dev.off()"
   ]
  },
  {
   "cell_type": "code",
   "execution_count": null,
   "id": "01ace28c",
   "metadata": {},
   "outputs": [],
   "source": [
    "#save dpt values to add to meta data\n",
    "dpt_df<-data.frame(dpt=dpt$dpt,cluster = type,cells=NG_cells)\n",
    "\n",
    "data_dpt_NG<-dpt_df[\"dpt\"]\n",
    "head(data_dpt_NG)\n",
    "\n",
    "#add pseudotime meta_data to NG\n",
    "NG <- AddMetaData(\n",
    "  object = NG,\n",
    "  metadata = data_dpt_NG,\n",
    "  col.name = 'data_dpt_NSCs_neurons'\n",
    ")\n",
    "\n",
    "tiff(\"UMAP_psdt_variable_NSCs_neurons_v4.tiff\", res = 400, units = \"in\", width = 5, height = 4)\n",
    "\n",
    "FeaturePlot(NG, features = \"data_dpt_NSCs_neurons\", pt.size = 0.3) & scale_color_viridis_c() & theme_void()\n",
    "dev.off() "
   ]
  },
  {
   "cell_type": "code",
   "execution_count": null,
   "id": "b875d45e",
   "metadata": {},
   "outputs": [],
   "source": [
    "saveRDS(NG, \"NSCs_neurons_CCA_scaled_Dif_components.rds\")\n"
   ]
  },
  {
   "cell_type": "code",
   "execution_count": null,
   "id": "eab3c7aa",
   "metadata": {},
   "outputs": [],
   "source": [
    "#second part, gene relevance"
   ]
  },
  {
   "cell_type": "code",
   "execution_count": null,
   "id": "33d00770",
   "metadata": {},
   "outputs": [],
   "source": [
    "NG_DiffussionMap<-readRDS(\"NG_DiffussionMap_v4.rds\")\n"
   ]
  },
  {
   "cell_type": "code",
   "execution_count": null,
   "id": "da2db449",
   "metadata": {},
   "outputs": [],
   "source": [
    "future::plan(\"multicore\", workers = 12) # do parallel\n"
   ]
  },
  {
   "cell_type": "code",
   "execution_count": null,
   "id": "91570f99",
   "metadata": {},
   "outputs": [],
   "source": [
    "#genes driving the difusion\n",
    "\n",
    "gr <- gene_relevance(NG_DiffussionMap)"
   ]
  },
  {
   "cell_type": "code",
   "execution_count": null,
   "id": "02ab107f",
   "metadata": {},
   "outputs": [],
   "source": [
    "p_gr<-plot(gr)"
   ]
  },
  {
   "cell_type": "code",
   "execution_count": null,
   "id": "642689d0",
   "metadata": {},
   "outputs": [],
   "source": [
    "tiff(\"NSCs_neurons_destiny_variable_relevance_v4.tiff\", res = 400, units = \"in\", width = 6, height = 6)\n",
    "p_gr\n",
    "dev.off()"
   ]
  },
  {
   "cell_type": "code",
   "execution_count": null,
   "id": "a209f301",
   "metadata": {},
   "outputs": [],
   "source": [
    "gr_2 <- gene_relevance(NG_DiffussionMap, dims=1:3)"
   ]
  },
  {
   "cell_type": "code",
   "execution_count": null,
   "id": "4a2cc9d4",
   "metadata": {},
   "outputs": [],
   "source": [
    "p_gr<-plot(gr_2)\n",
    "p_gr\n",
    "\n",
    "tiff(\"NSCs_neurons_destiny_variable_relevance_v4_3D.tiff\", res = 400, units = \"in\", width = 6, height = 6)\n",
    "p_gr\n",
    "dev.off()\n",
    "\n",
    "saveRDS(gr_2, \"gr_v4_3D.rds\")\n"
   ]
  },
  {
   "cell_type": "code",
   "execution_count": null,
   "id": "d96d45ec",
   "metadata": {},
   "outputs": [],
   "source": [
    "gr_2=readRDS(\"gr_v4_3D.rds\")"
   ]
  },
  {
   "cell_type": "code",
   "execution_count": null,
   "id": "78ab6492",
   "metadata": {},
   "outputs": [],
   "source": [
    "NG_DiffussionMap=readRDS(\"NG_DiffussionMap_v4.rds\")"
   ]
  },
  {
   "cell_type": "code",
   "execution_count": null,
   "id": "29cdcff8",
   "metadata": {},
   "outputs": [],
   "source": [
    "d <- plot(gr_2,genesdims = 1:3,)$data\n",
    "d"
   ]
  },
  {
   "cell_type": "code",
   "execution_count": null,
   "id": "fe077d55",
   "metadata": {},
   "outputs": [],
   "source": [
    "genes<-c(\"DPP10\",\"KCNIP4\",\"CALM1\",\"DCC\",\"MCTP1\",\"HSPA1A\",\"ROBO2\",\"FRMPD4\")\n",
    "p<-plot(gr_2, genes,faceter = facet_wrap(~Gene,ncol = 4))#,faceter = facet_wrap(~Gene)\n",
    "p\n",
    "tiff(\"gene_Relevance_genes_derivatives_gr3D.tiff\", res = 600, units = \"in\", width = 10, height = 5)\n",
    "p\n",
    "dev.off()"
   ]
  },
  {
   "cell_type": "code",
   "execution_count": null,
   "id": "26c710ff",
   "metadata": {},
   "outputs": [],
   "source": [
    "genes<-c(\"DPP10\",\"KCNIP4\",\"CALM1\",\"DCC\",\"ROBO2\",\"FRMPD4\")\n",
    "p<-plot(gr_2, genes,faceter = facet_wrap(~Gene,ncol = 2))#,faceter = facet_wrap(~Gene)\n",
    "p\n",
    "tiff(\"gene_Relevance_genes_derivatives_gr3D_subset.tiff\", res = 600, units = \"in\", width = 5, height = 6)\n",
    "p\n",
    "dev.off()"
   ]
  }
 ],
 "metadata": {
  "kernelspec": {
   "display_name": "R 4.2.1 (native)",
   "language": "R",
   "name": "ir421_native"
  },
  "language_info": {
   "codemirror_mode": "r",
   "file_extension": ".r",
   "mimetype": "text/x-r-source",
   "name": "R",
   "pygments_lexer": "r",
   "version": "4.2.1"
  }
 },
 "nbformat": 4,
 "nbformat_minor": 5
}
